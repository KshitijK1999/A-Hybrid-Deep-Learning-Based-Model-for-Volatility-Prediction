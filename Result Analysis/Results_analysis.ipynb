{
  "nbformat": 4,
  "nbformat_minor": 0,
  "metadata": {
    "colab": {
      "name": "Results analysis.ipynb",
      "provenance": []
    },
    "kernelspec": {
      "name": "python3",
      "display_name": "Python 3"
    },
    "accelerator": "GPU"
  },
  "cells": [
    {
      "cell_type": "code",
      "metadata": {
        "id": "soH1C2O0Pg_1"
      },
      "source": [
        "import pandas as pd\n",
        "import numpy as np\n",
        "import matplotlib.pyplot as plt\n"
      ],
      "execution_count": null,
      "outputs": []
    },
    {
      "cell_type": "code",
      "metadata": {
        "id": "QsbrVdjhYujN"
      },
      "source": [
        "df1 = pd.read_csv('/content/Copper_test (20).csv')\n",
        "df2 = pd.read_csv('/content/Copper_train (22).csv')"
      ],
      "execution_count": null,
      "outputs": []
    },
    {
      "cell_type": "code",
      "metadata": {
        "id": "2XiXzVouY4vy",
        "outputId": "5d5088a5-8e36-47d6-bb01-d263e6e82c69",
        "colab": {
          "base_uri": "https://localhost:8080/",
          "height": 202
        }
      },
      "source": [
        "df1.head()"
      ],
      "execution_count": null,
      "outputs": [
        {
          "output_type": "execute_result",
          "data": {
            "text/html": [
              "<div>\n",
              "<style scoped>\n",
              "    .dataframe tbody tr th:only-of-type {\n",
              "        vertical-align: middle;\n",
              "    }\n",
              "\n",
              "    .dataframe tbody tr th {\n",
              "        vertical-align: top;\n",
              "    }\n",
              "\n",
              "    .dataframe thead th {\n",
              "        text-align: right;\n",
              "    }\n",
              "</style>\n",
              "<table border=\"1\" class=\"dataframe\">\n",
              "  <thead>\n",
              "    <tr style=\"text-align: right;\">\n",
              "      <th></th>\n",
              "      <th>Unnamed: 0</th>\n",
              "      <th>Volatility_Copper_True_test</th>\n",
              "      <th>Volatility_Copper_5_test_LSTM</th>\n",
              "      <th>Volatility_Copper_5_test_real_LSTM</th>\n",
              "      <th>Volatility_Copper_22_test_LSTM</th>\n",
              "      <th>Volatility_Copper_22_test_real_LSTM</th>\n",
              "    </tr>\n",
              "  </thead>\n",
              "  <tbody>\n",
              "    <tr>\n",
              "      <th>0</th>\n",
              "      <td>2017-01-02</td>\n",
              "      <td>0.291559</td>\n",
              "      <td>0.280320</td>\n",
              "      <td>0.270230</td>\n",
              "      <td>0.138211</td>\n",
              "      <td>0.152647</td>\n",
              "    </tr>\n",
              "    <tr>\n",
              "      <th>1</th>\n",
              "      <td>2017-01-03</td>\n",
              "      <td>0.281577</td>\n",
              "      <td>0.274934</td>\n",
              "      <td>0.270313</td>\n",
              "      <td>0.139019</td>\n",
              "      <td>0.158844</td>\n",
              "    </tr>\n",
              "    <tr>\n",
              "      <th>2</th>\n",
              "      <td>2017-01-04</td>\n",
              "      <td>0.278859</td>\n",
              "      <td>0.271515</td>\n",
              "      <td>0.275176</td>\n",
              "      <td>0.141493</td>\n",
              "      <td>0.183766</td>\n",
              "    </tr>\n",
              "    <tr>\n",
              "      <th>3</th>\n",
              "      <td>2017-01-05</td>\n",
              "      <td>0.278894</td>\n",
              "      <td>0.272919</td>\n",
              "      <td>0.273618</td>\n",
              "      <td>0.151510</td>\n",
              "      <td>0.183379</td>\n",
              "    </tr>\n",
              "    <tr>\n",
              "      <th>4</th>\n",
              "      <td>2017-01-06</td>\n",
              "      <td>0.282158</td>\n",
              "      <td>0.273110</td>\n",
              "      <td>0.283353</td>\n",
              "      <td>0.161590</td>\n",
              "      <td>0.184548</td>\n",
              "    </tr>\n",
              "  </tbody>\n",
              "</table>\n",
              "</div>"
            ],
            "text/plain": [
              "   Unnamed: 0  ...  Volatility_Copper_22_test_real_LSTM\n",
              "0  2017-01-02  ...                             0.152647\n",
              "1  2017-01-03  ...                             0.158844\n",
              "2  2017-01-04  ...                             0.183766\n",
              "3  2017-01-05  ...                             0.183379\n",
              "4  2017-01-06  ...                             0.184548\n",
              "\n",
              "[5 rows x 6 columns]"
            ]
          },
          "metadata": {
            "tags": []
          },
          "execution_count": 31
        }
      ]
    },
    {
      "cell_type": "code",
      "metadata": {
        "id": "hiwIA5snY5_q",
        "outputId": "e36ed2ab-63be-4bd2-c376-f0a4ea3c4cf8",
        "colab": {
          "base_uri": "https://localhost:8080/",
          "height": 104
        }
      },
      "source": [
        "df1.columns"
      ],
      "execution_count": null,
      "outputs": [
        {
          "output_type": "execute_result",
          "data": {
            "text/plain": [
              "Index(['Unnamed: 0', 'Volatility_Copper_True_test',\n",
              "       'Volatility_Copper_5_test_LSTM', 'Volatility_Copper_5_test_real_LSTM',\n",
              "       'Volatility_Copper_22_test_LSTM',\n",
              "       'Volatility_Copper_22_test_real_LSTM'],\n",
              "      dtype='object')"
            ]
          },
          "metadata": {
            "tags": []
          },
          "execution_count": 32
        }
      ]
    },
    {
      "cell_type": "code",
      "metadata": {
        "id": "-FV7udgVY_CI"
      },
      "source": [
        "df1 = df1.rename(columns={\"Unnamed: 0\": \"Timestamp\"})"
      ],
      "execution_count": null,
      "outputs": []
    },
    {
      "cell_type": "code",
      "metadata": {
        "id": "1rkxvF4SZMRx"
      },
      "source": [
        "df2 = df2.rename(columns={\"Unnamed: 0\": \"Timestamp\"})"
      ],
      "execution_count": null,
      "outputs": []
    },
    {
      "cell_type": "code",
      "metadata": {
        "id": "u7STcWR3Z6Ez",
        "outputId": "c18f86ae-ccdb-4470-8f7b-80792e54a307",
        "colab": {
          "base_uri": "https://localhost:8080/",
          "height": 202
        }
      },
      "source": [
        "df1.head()"
      ],
      "execution_count": null,
      "outputs": [
        {
          "output_type": "execute_result",
          "data": {
            "text/html": [
              "<div>\n",
              "<style scoped>\n",
              "    .dataframe tbody tr th:only-of-type {\n",
              "        vertical-align: middle;\n",
              "    }\n",
              "\n",
              "    .dataframe tbody tr th {\n",
              "        vertical-align: top;\n",
              "    }\n",
              "\n",
              "    .dataframe thead th {\n",
              "        text-align: right;\n",
              "    }\n",
              "</style>\n",
              "<table border=\"1\" class=\"dataframe\">\n",
              "  <thead>\n",
              "    <tr style=\"text-align: right;\">\n",
              "      <th></th>\n",
              "      <th>Timestamp</th>\n",
              "      <th>Volatility_Copper_True_test</th>\n",
              "      <th>Volatility_Copper_5_test_LSTM</th>\n",
              "      <th>Volatility_Copper_5_test_real_LSTM</th>\n",
              "      <th>Volatility_Copper_22_test_LSTM</th>\n",
              "      <th>Volatility_Copper_22_test_real_LSTM</th>\n",
              "    </tr>\n",
              "  </thead>\n",
              "  <tbody>\n",
              "    <tr>\n",
              "      <th>0</th>\n",
              "      <td>2017-01-02</td>\n",
              "      <td>0.291559</td>\n",
              "      <td>0.280320</td>\n",
              "      <td>0.270230</td>\n",
              "      <td>0.138211</td>\n",
              "      <td>0.152647</td>\n",
              "    </tr>\n",
              "    <tr>\n",
              "      <th>1</th>\n",
              "      <td>2017-01-03</td>\n",
              "      <td>0.281577</td>\n",
              "      <td>0.274934</td>\n",
              "      <td>0.270313</td>\n",
              "      <td>0.139019</td>\n",
              "      <td>0.158844</td>\n",
              "    </tr>\n",
              "    <tr>\n",
              "      <th>2</th>\n",
              "      <td>2017-01-04</td>\n",
              "      <td>0.278859</td>\n",
              "      <td>0.271515</td>\n",
              "      <td>0.275176</td>\n",
              "      <td>0.141493</td>\n",
              "      <td>0.183766</td>\n",
              "    </tr>\n",
              "    <tr>\n",
              "      <th>3</th>\n",
              "      <td>2017-01-05</td>\n",
              "      <td>0.278894</td>\n",
              "      <td>0.272919</td>\n",
              "      <td>0.273618</td>\n",
              "      <td>0.151510</td>\n",
              "      <td>0.183379</td>\n",
              "    </tr>\n",
              "    <tr>\n",
              "      <th>4</th>\n",
              "      <td>2017-01-06</td>\n",
              "      <td>0.282158</td>\n",
              "      <td>0.273110</td>\n",
              "      <td>0.283353</td>\n",
              "      <td>0.161590</td>\n",
              "      <td>0.184548</td>\n",
              "    </tr>\n",
              "  </tbody>\n",
              "</table>\n",
              "</div>"
            ],
            "text/plain": [
              "    Timestamp  ...  Volatility_Copper_22_test_real_LSTM\n",
              "0  2017-01-02  ...                             0.152647\n",
              "1  2017-01-03  ...                             0.158844\n",
              "2  2017-01-04  ...                             0.183766\n",
              "3  2017-01-05  ...                             0.183379\n",
              "4  2017-01-06  ...                             0.184548\n",
              "\n",
              "[5 rows x 6 columns]"
            ]
          },
          "metadata": {
            "tags": []
          },
          "execution_count": 35
        }
      ]
    },
    {
      "cell_type": "code",
      "metadata": {
        "id": "S1tIZh2UZRHx"
      },
      "source": [
        "df1.index  = df1['Timestamp']\n",
        "df2.index  = df2['Timestamp']\n",
        "df1 = df1.drop(['Timestamp'], axis=1)\n",
        "df2 = df2.drop(['Timestamp'], axis=1)"
      ],
      "execution_count": null,
      "outputs": []
    },
    {
      "cell_type": "code",
      "metadata": {
        "id": "QSKXzPNBZvq_",
        "outputId": "b03943c0-74c6-4aca-b3f0-c22ad90504cf",
        "colab": {
          "base_uri": "https://localhost:8080/",
          "height": 233
        }
      },
      "source": [
        "df1.head()"
      ],
      "execution_count": null,
      "outputs": [
        {
          "output_type": "execute_result",
          "data": {
            "text/html": [
              "<div>\n",
              "<style scoped>\n",
              "    .dataframe tbody tr th:only-of-type {\n",
              "        vertical-align: middle;\n",
              "    }\n",
              "\n",
              "    .dataframe tbody tr th {\n",
              "        vertical-align: top;\n",
              "    }\n",
              "\n",
              "    .dataframe thead th {\n",
              "        text-align: right;\n",
              "    }\n",
              "</style>\n",
              "<table border=\"1\" class=\"dataframe\">\n",
              "  <thead>\n",
              "    <tr style=\"text-align: right;\">\n",
              "      <th></th>\n",
              "      <th>Volatility_Copper_True_test</th>\n",
              "      <th>Volatility_Copper_5_test_LSTM</th>\n",
              "      <th>Volatility_Copper_5_test_real_LSTM</th>\n",
              "      <th>Volatility_Copper_22_test_LSTM</th>\n",
              "      <th>Volatility_Copper_22_test_real_LSTM</th>\n",
              "    </tr>\n",
              "    <tr>\n",
              "      <th>Timestamp</th>\n",
              "      <th></th>\n",
              "      <th></th>\n",
              "      <th></th>\n",
              "      <th></th>\n",
              "      <th></th>\n",
              "    </tr>\n",
              "  </thead>\n",
              "  <tbody>\n",
              "    <tr>\n",
              "      <th>2017-01-02</th>\n",
              "      <td>0.291559</td>\n",
              "      <td>0.280320</td>\n",
              "      <td>0.270230</td>\n",
              "      <td>0.138211</td>\n",
              "      <td>0.152647</td>\n",
              "    </tr>\n",
              "    <tr>\n",
              "      <th>2017-01-03</th>\n",
              "      <td>0.281577</td>\n",
              "      <td>0.274934</td>\n",
              "      <td>0.270313</td>\n",
              "      <td>0.139019</td>\n",
              "      <td>0.158844</td>\n",
              "    </tr>\n",
              "    <tr>\n",
              "      <th>2017-01-04</th>\n",
              "      <td>0.278859</td>\n",
              "      <td>0.271515</td>\n",
              "      <td>0.275176</td>\n",
              "      <td>0.141493</td>\n",
              "      <td>0.183766</td>\n",
              "    </tr>\n",
              "    <tr>\n",
              "      <th>2017-01-05</th>\n",
              "      <td>0.278894</td>\n",
              "      <td>0.272919</td>\n",
              "      <td>0.273618</td>\n",
              "      <td>0.151510</td>\n",
              "      <td>0.183379</td>\n",
              "    </tr>\n",
              "    <tr>\n",
              "      <th>2017-01-06</th>\n",
              "      <td>0.282158</td>\n",
              "      <td>0.273110</td>\n",
              "      <td>0.283353</td>\n",
              "      <td>0.161590</td>\n",
              "      <td>0.184548</td>\n",
              "    </tr>\n",
              "  </tbody>\n",
              "</table>\n",
              "</div>"
            ],
            "text/plain": [
              "            Volatility_Copper_True_test  ...  Volatility_Copper_22_test_real_LSTM\n",
              "Timestamp                                ...                                     \n",
              "2017-01-02                     0.291559  ...                             0.152647\n",
              "2017-01-03                     0.281577  ...                             0.158844\n",
              "2017-01-04                     0.278859  ...                             0.183766\n",
              "2017-01-05                     0.278894  ...                             0.183379\n",
              "2017-01-06                     0.282158  ...                             0.184548\n",
              "\n",
              "[5 rows x 5 columns]"
            ]
          },
          "metadata": {
            "tags": []
          },
          "execution_count": 37
        }
      ]
    },
    {
      "cell_type": "code",
      "metadata": {
        "id": "fJ2u34Sxaxqw",
        "outputId": "e36812d8-409a-45f2-ae9a-f4aefd76d774",
        "colab": {
          "base_uri": "https://localhost:8080/",
          "height": 233
        }
      },
      "source": [
        "df2.head()"
      ],
      "execution_count": null,
      "outputs": [
        {
          "output_type": "execute_result",
          "data": {
            "text/html": [
              "<div>\n",
              "<style scoped>\n",
              "    .dataframe tbody tr th:only-of-type {\n",
              "        vertical-align: middle;\n",
              "    }\n",
              "\n",
              "    .dataframe tbody tr th {\n",
              "        vertical-align: top;\n",
              "    }\n",
              "\n",
              "    .dataframe thead th {\n",
              "        text-align: right;\n",
              "    }\n",
              "</style>\n",
              "<table border=\"1\" class=\"dataframe\">\n",
              "  <thead>\n",
              "    <tr style=\"text-align: right;\">\n",
              "      <th></th>\n",
              "      <th>Volatility_Copper_True_train</th>\n",
              "      <th>Volatility_Copper_5_train_LSTM</th>\n",
              "      <th>Volatility_Copper_5_train_real_LSTM</th>\n",
              "      <th>Volatility_Copper_22_train_LSTM</th>\n",
              "      <th>Volatility_Copper_22_train_real_LSTM</th>\n",
              "    </tr>\n",
              "    <tr>\n",
              "      <th>Timestamp</th>\n",
              "      <th></th>\n",
              "      <th></th>\n",
              "      <th></th>\n",
              "      <th></th>\n",
              "      <th></th>\n",
              "    </tr>\n",
              "  </thead>\n",
              "  <tbody>\n",
              "    <tr>\n",
              "      <th>2006-05-15</th>\n",
              "      <td>0.360673</td>\n",
              "      <td>0.445389</td>\n",
              "      <td>0.545624</td>\n",
              "      <td>0.746150</td>\n",
              "      <td>0.826543</td>\n",
              "    </tr>\n",
              "    <tr>\n",
              "      <th>2006-05-16</th>\n",
              "      <td>0.386861</td>\n",
              "      <td>0.500236</td>\n",
              "      <td>0.545129</td>\n",
              "      <td>0.761361</td>\n",
              "      <td>0.828049</td>\n",
              "    </tr>\n",
              "    <tr>\n",
              "      <th>2006-05-17</th>\n",
              "      <td>0.390923</td>\n",
              "      <td>0.526108</td>\n",
              "      <td>0.668875</td>\n",
              "      <td>0.771992</td>\n",
              "      <td>0.825717</td>\n",
              "    </tr>\n",
              "    <tr>\n",
              "      <th>2006-05-18</th>\n",
              "      <td>0.460591</td>\n",
              "      <td>0.600399</td>\n",
              "      <td>0.725899</td>\n",
              "      <td>0.776400</td>\n",
              "      <td>0.831539</td>\n",
              "    </tr>\n",
              "    <tr>\n",
              "      <th>2006-05-19</th>\n",
              "      <td>0.455518</td>\n",
              "      <td>0.663118</td>\n",
              "      <td>0.726672</td>\n",
              "      <td>0.780362</td>\n",
              "      <td>0.848056</td>\n",
              "    </tr>\n",
              "  </tbody>\n",
              "</table>\n",
              "</div>"
            ],
            "text/plain": [
              "            Volatility_Copper_True_train  ...  Volatility_Copper_22_train_real_LSTM\n",
              "Timestamp                                 ...                                      \n",
              "2006-05-15                      0.360673  ...                              0.826543\n",
              "2006-05-16                      0.386861  ...                              0.828049\n",
              "2006-05-17                      0.390923  ...                              0.825717\n",
              "2006-05-18                      0.460591  ...                              0.831539\n",
              "2006-05-19                      0.455518  ...                              0.848056\n",
              "\n",
              "[5 rows x 5 columns]"
            ]
          },
          "metadata": {
            "tags": []
          },
          "execution_count": 38
        }
      ]
    },
    {
      "cell_type": "code",
      "metadata": {
        "id": "Wbnqp5GWds0-",
        "outputId": "665e1088-60c4-496e-eea4-e56f4c431a4a",
        "colab": {
          "base_uri": "https://localhost:8080/",
          "height": 86
        }
      },
      "source": [
        "df1.columns"
      ],
      "execution_count": null,
      "outputs": [
        {
          "output_type": "execute_result",
          "data": {
            "text/plain": [
              "Index(['Volatility_Copper_True_test', 'Volatility_Copper_5_test_LSTM',\n",
              "       'Volatility_Copper_5_test_real_LSTM', 'Volatility_Copper_22_test_LSTM',\n",
              "       'Volatility_Copper_22_test_real_LSTM'],\n",
              "      dtype='object')"
            ]
          },
          "metadata": {
            "tags": []
          },
          "execution_count": 39
        }
      ]
    },
    {
      "cell_type": "code",
      "metadata": {
        "id": "7BdZIcnZaylJ"
      },
      "source": [
        "df2.Volatility_Copper_5_train_LSTM = df2.Volatility_Copper_5_train_LSTM.shift(5)\n",
        "df2.Volatility_Copper_22_train_LSTM = df2.Volatility_Copper_22_train_LSTM.shift(22)\n",
        "df2.Volatility_Copper_5_train_real_LSTM = df2.Volatility_Copper_5_train_real_LSTM.shift(5)\n",
        "df2.Volatility_Copper_22_train_real_LSTM = df2.Volatility_Copper_22_train_real_LSTM.shift(22)\n",
        "\n",
        "\n",
        "df1.Volatility_Copper_5_test_LSTM = df1.Volatility_Copper_5_test_LSTM.shift(5)\n",
        "df1.Volatility_Copper_22_test_LSTM = df1.Volatility_Copper_22_test_LSTM.shift(22)\n",
        "df1.Volatility_Copper_5_test_real_LSTM = df1.Volatility_Copper_5_test_real_LSTM.shift(5)\n",
        "df1.Volatility_Copper_22_test_real_LSTM = df1.Volatility_Copper_22_test_real_LSTM.shift(22)"
      ],
      "execution_count": null,
      "outputs": []
    },
    {
      "cell_type": "code",
      "metadata": {
        "id": "m1llt4f5dHa9",
        "outputId": "30f7188f-f858-4e06-f186-5b4a3d0a09ee",
        "colab": {
          "base_uri": "https://localhost:8080/",
          "height": 846
        }
      },
      "source": [
        "df1.head(25)"
      ],
      "execution_count": null,
      "outputs": [
        {
          "output_type": "execute_result",
          "data": {
            "text/html": [
              "<div>\n",
              "<style scoped>\n",
              "    .dataframe tbody tr th:only-of-type {\n",
              "        vertical-align: middle;\n",
              "    }\n",
              "\n",
              "    .dataframe tbody tr th {\n",
              "        vertical-align: top;\n",
              "    }\n",
              "\n",
              "    .dataframe thead th {\n",
              "        text-align: right;\n",
              "    }\n",
              "</style>\n",
              "<table border=\"1\" class=\"dataframe\">\n",
              "  <thead>\n",
              "    <tr style=\"text-align: right;\">\n",
              "      <th></th>\n",
              "      <th>Volatility_Copper_True_test</th>\n",
              "      <th>Volatility_Copper_5_test_LSTM</th>\n",
              "      <th>Volatility_Copper_5_test_real_LSTM</th>\n",
              "      <th>Volatility_Copper_22_test_LSTM</th>\n",
              "      <th>Volatility_Copper_22_test_real_LSTM</th>\n",
              "    </tr>\n",
              "    <tr>\n",
              "      <th>Timestamp</th>\n",
              "      <th></th>\n",
              "      <th></th>\n",
              "      <th></th>\n",
              "      <th></th>\n",
              "      <th></th>\n",
              "    </tr>\n",
              "  </thead>\n",
              "  <tbody>\n",
              "    <tr>\n",
              "      <th>2017-01-02</th>\n",
              "      <td>0.291559</td>\n",
              "      <td>NaN</td>\n",
              "      <td>NaN</td>\n",
              "      <td>NaN</td>\n",
              "      <td>NaN</td>\n",
              "    </tr>\n",
              "    <tr>\n",
              "      <th>2017-01-03</th>\n",
              "      <td>0.281577</td>\n",
              "      <td>NaN</td>\n",
              "      <td>NaN</td>\n",
              "      <td>NaN</td>\n",
              "      <td>NaN</td>\n",
              "    </tr>\n",
              "    <tr>\n",
              "      <th>2017-01-04</th>\n",
              "      <td>0.278859</td>\n",
              "      <td>NaN</td>\n",
              "      <td>NaN</td>\n",
              "      <td>NaN</td>\n",
              "      <td>NaN</td>\n",
              "    </tr>\n",
              "    <tr>\n",
              "      <th>2017-01-05</th>\n",
              "      <td>0.278894</td>\n",
              "      <td>NaN</td>\n",
              "      <td>NaN</td>\n",
              "      <td>NaN</td>\n",
              "      <td>NaN</td>\n",
              "    </tr>\n",
              "    <tr>\n",
              "      <th>2017-01-06</th>\n",
              "      <td>0.282158</td>\n",
              "      <td>NaN</td>\n",
              "      <td>NaN</td>\n",
              "      <td>NaN</td>\n",
              "      <td>NaN</td>\n",
              "    </tr>\n",
              "    <tr>\n",
              "      <th>2017-01-09</th>\n",
              "      <td>0.270230</td>\n",
              "      <td>0.280320</td>\n",
              "      <td>0.270230</td>\n",
              "      <td>NaN</td>\n",
              "      <td>NaN</td>\n",
              "    </tr>\n",
              "    <tr>\n",
              "      <th>2017-01-10</th>\n",
              "      <td>0.270313</td>\n",
              "      <td>0.274934</td>\n",
              "      <td>0.270313</td>\n",
              "      <td>NaN</td>\n",
              "      <td>NaN</td>\n",
              "    </tr>\n",
              "    <tr>\n",
              "      <th>2017-01-11</th>\n",
              "      <td>0.275176</td>\n",
              "      <td>0.271515</td>\n",
              "      <td>0.275176</td>\n",
              "      <td>NaN</td>\n",
              "      <td>NaN</td>\n",
              "    </tr>\n",
              "    <tr>\n",
              "      <th>2017-01-12</th>\n",
              "      <td>0.273618</td>\n",
              "      <td>0.272919</td>\n",
              "      <td>0.273618</td>\n",
              "      <td>NaN</td>\n",
              "      <td>NaN</td>\n",
              "    </tr>\n",
              "    <tr>\n",
              "      <th>2017-01-13</th>\n",
              "      <td>0.283353</td>\n",
              "      <td>0.273110</td>\n",
              "      <td>0.283353</td>\n",
              "      <td>NaN</td>\n",
              "      <td>NaN</td>\n",
              "    </tr>\n",
              "    <tr>\n",
              "      <th>2017-01-16</th>\n",
              "      <td>0.284729</td>\n",
              "      <td>0.279068</td>\n",
              "      <td>0.284729</td>\n",
              "      <td>NaN</td>\n",
              "      <td>NaN</td>\n",
              "    </tr>\n",
              "    <tr>\n",
              "      <th>2017-01-17</th>\n",
              "      <td>0.235911</td>\n",
              "      <td>0.282834</td>\n",
              "      <td>0.235911</td>\n",
              "      <td>NaN</td>\n",
              "      <td>NaN</td>\n",
              "    </tr>\n",
              "    <tr>\n",
              "      <th>2017-01-18</th>\n",
              "      <td>0.160726</td>\n",
              "      <td>0.261191</td>\n",
              "      <td>0.160726</td>\n",
              "      <td>NaN</td>\n",
              "      <td>NaN</td>\n",
              "    </tr>\n",
              "    <tr>\n",
              "      <th>2017-01-19</th>\n",
              "      <td>0.153947</td>\n",
              "      <td>0.225569</td>\n",
              "      <td>0.153947</td>\n",
              "      <td>NaN</td>\n",
              "      <td>NaN</td>\n",
              "    </tr>\n",
              "    <tr>\n",
              "      <th>2017-01-20</th>\n",
              "      <td>0.148530</td>\n",
              "      <td>0.194178</td>\n",
              "      <td>0.148530</td>\n",
              "      <td>NaN</td>\n",
              "      <td>NaN</td>\n",
              "    </tr>\n",
              "    <tr>\n",
              "      <th>2017-01-23</th>\n",
              "      <td>0.145745</td>\n",
              "      <td>0.168441</td>\n",
              "      <td>0.145745</td>\n",
              "      <td>NaN</td>\n",
              "      <td>NaN</td>\n",
              "    </tr>\n",
              "    <tr>\n",
              "      <th>2017-01-24</th>\n",
              "      <td>0.143914</td>\n",
              "      <td>0.151127</td>\n",
              "      <td>0.143914</td>\n",
              "      <td>NaN</td>\n",
              "      <td>NaN</td>\n",
              "    </tr>\n",
              "    <tr>\n",
              "      <th>2017-01-25</th>\n",
              "      <td>0.156793</td>\n",
              "      <td>0.143832</td>\n",
              "      <td>0.156793</td>\n",
              "      <td>NaN</td>\n",
              "      <td>NaN</td>\n",
              "    </tr>\n",
              "    <tr>\n",
              "      <th>2017-01-27</th>\n",
              "      <td>0.156732</td>\n",
              "      <td>0.148148</td>\n",
              "      <td>0.156732</td>\n",
              "      <td>NaN</td>\n",
              "      <td>NaN</td>\n",
              "    </tr>\n",
              "    <tr>\n",
              "      <th>2017-01-30</th>\n",
              "      <td>0.158888</td>\n",
              "      <td>0.152074</td>\n",
              "      <td>0.158888</td>\n",
              "      <td>NaN</td>\n",
              "      <td>NaN</td>\n",
              "    </tr>\n",
              "    <tr>\n",
              "      <th>2017-01-31</th>\n",
              "      <td>0.159950</td>\n",
              "      <td>0.154757</td>\n",
              "      <td>0.159950</td>\n",
              "      <td>NaN</td>\n",
              "      <td>NaN</td>\n",
              "    </tr>\n",
              "    <tr>\n",
              "      <th>2017-02-01</th>\n",
              "      <td>0.148852</td>\n",
              "      <td>0.156258</td>\n",
              "      <td>0.148852</td>\n",
              "      <td>NaN</td>\n",
              "      <td>NaN</td>\n",
              "    </tr>\n",
              "    <tr>\n",
              "      <th>2017-02-02</th>\n",
              "      <td>0.152647</td>\n",
              "      <td>0.152535</td>\n",
              "      <td>0.152647</td>\n",
              "      <td>0.138211</td>\n",
              "      <td>0.152647</td>\n",
              "    </tr>\n",
              "    <tr>\n",
              "      <th>2017-02-03</th>\n",
              "      <td>0.158844</td>\n",
              "      <td>0.150573</td>\n",
              "      <td>0.158844</td>\n",
              "      <td>0.139019</td>\n",
              "      <td>0.158844</td>\n",
              "    </tr>\n",
              "    <tr>\n",
              "      <th>2017-02-06</th>\n",
              "      <td>0.183766</td>\n",
              "      <td>0.152560</td>\n",
              "      <td>0.183766</td>\n",
              "      <td>0.141493</td>\n",
              "      <td>0.183766</td>\n",
              "    </tr>\n",
              "  </tbody>\n",
              "</table>\n",
              "</div>"
            ],
            "text/plain": [
              "            Volatility_Copper_True_test  ...  Volatility_Copper_22_test_real_LSTM\n",
              "Timestamp                                ...                                     \n",
              "2017-01-02                     0.291559  ...                                  NaN\n",
              "2017-01-03                     0.281577  ...                                  NaN\n",
              "2017-01-04                     0.278859  ...                                  NaN\n",
              "2017-01-05                     0.278894  ...                                  NaN\n",
              "2017-01-06                     0.282158  ...                                  NaN\n",
              "2017-01-09                     0.270230  ...                                  NaN\n",
              "2017-01-10                     0.270313  ...                                  NaN\n",
              "2017-01-11                     0.275176  ...                                  NaN\n",
              "2017-01-12                     0.273618  ...                                  NaN\n",
              "2017-01-13                     0.283353  ...                                  NaN\n",
              "2017-01-16                     0.284729  ...                                  NaN\n",
              "2017-01-17                     0.235911  ...                                  NaN\n",
              "2017-01-18                     0.160726  ...                                  NaN\n",
              "2017-01-19                     0.153947  ...                                  NaN\n",
              "2017-01-20                     0.148530  ...                                  NaN\n",
              "2017-01-23                     0.145745  ...                                  NaN\n",
              "2017-01-24                     0.143914  ...                                  NaN\n",
              "2017-01-25                     0.156793  ...                                  NaN\n",
              "2017-01-27                     0.156732  ...                                  NaN\n",
              "2017-01-30                     0.158888  ...                                  NaN\n",
              "2017-01-31                     0.159950  ...                                  NaN\n",
              "2017-02-01                     0.148852  ...                                  NaN\n",
              "2017-02-02                     0.152647  ...                             0.152647\n",
              "2017-02-03                     0.158844  ...                             0.158844\n",
              "2017-02-06                     0.183766  ...                             0.183766\n",
              "\n",
              "[25 rows x 5 columns]"
            ]
          },
          "metadata": {
            "tags": []
          },
          "execution_count": 41
        }
      ]
    },
    {
      "cell_type": "code",
      "metadata": {
        "id": "XDSzTneZee4g",
        "outputId": "f10ee51d-da00-41df-8bda-a68d25967471",
        "colab": {
          "base_uri": "https://localhost:8080/",
          "height": 233
        }
      },
      "source": [
        "df2.tail()"
      ],
      "execution_count": null,
      "outputs": [
        {
          "output_type": "execute_result",
          "data": {
            "text/html": [
              "<div>\n",
              "<style scoped>\n",
              "    .dataframe tbody tr th:only-of-type {\n",
              "        vertical-align: middle;\n",
              "    }\n",
              "\n",
              "    .dataframe tbody tr th {\n",
              "        vertical-align: top;\n",
              "    }\n",
              "\n",
              "    .dataframe thead th {\n",
              "        text-align: right;\n",
              "    }\n",
              "</style>\n",
              "<table border=\"1\" class=\"dataframe\">\n",
              "  <thead>\n",
              "    <tr style=\"text-align: right;\">\n",
              "      <th></th>\n",
              "      <th>Volatility_Copper_True_train</th>\n",
              "      <th>Volatility_Copper_5_train_LSTM</th>\n",
              "      <th>Volatility_Copper_5_train_real_LSTM</th>\n",
              "      <th>Volatility_Copper_22_train_LSTM</th>\n",
              "      <th>Volatility_Copper_22_train_real_LSTM</th>\n",
              "    </tr>\n",
              "    <tr>\n",
              "      <th>Timestamp</th>\n",
              "      <th></th>\n",
              "      <th></th>\n",
              "      <th></th>\n",
              "      <th></th>\n",
              "      <th></th>\n",
              "    </tr>\n",
              "  </thead>\n",
              "  <tbody>\n",
              "    <tr>\n",
              "      <th>2016-12-26</th>\n",
              "      <td>0.293671</td>\n",
              "      <td>0.305119</td>\n",
              "      <td>0.293671</td>\n",
              "      <td>0.297830</td>\n",
              "      <td>0.293671</td>\n",
              "    </tr>\n",
              "    <tr>\n",
              "      <th>2016-12-27</th>\n",
              "      <td>0.293159</td>\n",
              "      <td>0.295378</td>\n",
              "      <td>0.293159</td>\n",
              "      <td>0.282963</td>\n",
              "      <td>0.293159</td>\n",
              "    </tr>\n",
              "    <tr>\n",
              "      <th>2016-12-28</th>\n",
              "      <td>0.298212</td>\n",
              "      <td>0.292783</td>\n",
              "      <td>0.298212</td>\n",
              "      <td>0.272729</td>\n",
              "      <td>0.298212</td>\n",
              "    </tr>\n",
              "    <tr>\n",
              "      <th>2016-12-29</th>\n",
              "      <td>0.293873</td>\n",
              "      <td>0.295587</td>\n",
              "      <td>0.293873</td>\n",
              "      <td>0.268755</td>\n",
              "      <td>0.293873</td>\n",
              "    </tr>\n",
              "    <tr>\n",
              "      <th>2016-12-30</th>\n",
              "      <td>0.292252</td>\n",
              "      <td>0.295209</td>\n",
              "      <td>0.292252</td>\n",
              "      <td>0.266502</td>\n",
              "      <td>0.292252</td>\n",
              "    </tr>\n",
              "  </tbody>\n",
              "</table>\n",
              "</div>"
            ],
            "text/plain": [
              "            Volatility_Copper_True_train  ...  Volatility_Copper_22_train_real_LSTM\n",
              "Timestamp                                 ...                                      \n",
              "2016-12-26                      0.293671  ...                              0.293671\n",
              "2016-12-27                      0.293159  ...                              0.293159\n",
              "2016-12-28                      0.298212  ...                              0.298212\n",
              "2016-12-29                      0.293873  ...                              0.293873\n",
              "2016-12-30                      0.292252  ...                              0.292252\n",
              "\n",
              "[5 rows x 5 columns]"
            ]
          },
          "metadata": {
            "tags": []
          },
          "execution_count": 42
        }
      ]
    },
    {
      "cell_type": "code",
      "metadata": {
        "id": "0RtBZVOHehuJ"
      },
      "source": [
        "EPSILON = 1e-10\n",
        "\n",
        "def _error(actual: np.ndarray, predicted: np.ndarray):\n",
        "    \"\"\" Simple error \"\"\"\n",
        "    return actual - predicted\n",
        "\n",
        "\n",
        "def _percentage_error(actual: np.ndarray, predicted: np.ndarray):\n",
        "    \"\"\"\n",
        "    Percentage error\n",
        "    Note: result is NOT multiplied by 100\n",
        "    \"\"\"\n",
        "    return _error(actual, predicted) / (actual + EPSILON)\n",
        "\n",
        "def mse(actual: np.ndarray, predicted: np.ndarray):\n",
        "    \"\"\" Mean Squared Error \"\"\"\n",
        "    return np.mean(np.square(_error(actual, predicted)))\n",
        "\n",
        "def rmse(actual: np.ndarray, predicted: np.ndarray):\n",
        "    \"\"\" Root Mean Squared Error \"\"\"\n",
        "    return np.sqrt(mse(actual, predicted))\n",
        "\n",
        "def mae(actual: np.ndarray, predicted: np.ndarray):\n",
        "    \"\"\" Mean Absolute Error = mad \"\"\"\n",
        "    return np.mean(np.abs(_error(actual, predicted)))\n",
        "\n",
        "def mape(actual: np.ndarray, predicted: np.ndarray):\n",
        "    \"\"\"\n",
        "    Mean Absolute Percentage Error\n",
        "    Properties:\n",
        "        + Easy to interpret\n",
        "        + Scale independent\n",
        "        - Biased, not symmetric\n",
        "        - Undefined when actual[t] == 0\n",
        "    Note: result is NOT multiplied by 100\n",
        "    \"\"\"\n",
        "    return np.mean(np.abs(_percentage_error(actual, predicted)))\n",
        "\n"
      ],
      "execution_count": null,
      "outputs": []
    },
    {
      "cell_type": "code",
      "metadata": {
        "id": "_pZQnsaP2G4-",
        "outputId": "bcc550e9-f680-4866-b61d-0be6227f945f",
        "colab": {
          "base_uri": "https://localhost:8080/",
          "height": 34
        }
      },
      "source": [
        "df1.Volatility_Copper_True_test.shape"
      ],
      "execution_count": null,
      "outputs": [
        {
          "output_type": "execute_result",
          "data": {
            "text/plain": [
              "(820,)"
            ]
          },
          "metadata": {
            "tags": []
          },
          "execution_count": 44
        }
      ]
    },
    {
      "cell_type": "code",
      "metadata": {
        "id": "RZFtTqrAh0e0",
        "outputId": "c8b6e4e4-0a89-4816-d56e-79fbaa38ce84",
        "colab": {
          "base_uri": "https://localhost:8080/",
          "height": 421
        }
      },
      "source": [
        "f = plt.figure(figsize=(14,6))\n",
        "ax1 = f.add_subplot(111)\n",
        "#ax2 = f.add_subplot(122)\n",
        "\n",
        "ax1.plot(df2.Volatility_Copper_True_train, '-', label='True Copper Values', color='b')\n",
        "ax1.plot(df1.Volatility_Copper_True_test, '-',  color='b')\n",
        "ax1.plot(df2.Volatility_Copper_5_train_LSTM, label='LSTM Testing_5 Prediction', color='r')\n",
        "ax1.plot(df1.Volatility_Copper_5_test_LSTM, label='LSTM Training_5 Prediction', color='g')\n",
        "ax1.set_title(\"Copper LSTM Predictions\")\n",
        "ax1.set_xlabel('Time')\n",
        "ax1.set_ylabel('Normalized Volatality')\n",
        "ax1.legend()"
      ],
      "execution_count": null,
      "outputs": [
        {
          "output_type": "execute_result",
          "data": {
            "text/plain": [
              "<matplotlib.legend.Legend at 0x7f86b83f09e8>"
            ]
          },
          "metadata": {
            "tags": []
          },
          "execution_count": 45
        },
        {
          "output_type": "display_data",
          "data": {
            "image/png": "[encoded data removed]",
            "text/plain": [
              "<Figure size 1008x432 with 1 Axes>"
            ]
          },
          "metadata": {
            "tags": [],
            "needs_background": "light"
          }
        }
      ]
    },
    {
      "cell_type": "code",
      "metadata": {
        "id": "wG8keRP-AmFo",
        "outputId": "42b2bec9-f1f1-4ad6-9a13-0c62edde597b",
        "colab": {
          "base_uri": "https://localhost:8080/",
          "height": 1000
        }
      },
      "source": [
        "df1[['Volatility_Copper_5_test_LSTM'\t,'Volatility_Copper_5_test_real_LSTM']][0:50]"
      ],
      "execution_count": null,
      "outputs": [
        {
          "output_type": "execute_result",
          "data": {
            "text/html": [
              "<div>\n",
              "<style scoped>\n",
              "    .dataframe tbody tr th:only-of-type {\n",
              "        vertical-align: middle;\n",
              "    }\n",
              "\n",
              "    .dataframe tbody tr th {\n",
              "        vertical-align: top;\n",
              "    }\n",
              "\n",
              "    .dataframe thead th {\n",
              "        text-align: right;\n",
              "    }\n",
              "</style>\n",
              "<table border=\"1\" class=\"dataframe\">\n",
              "  <thead>\n",
              "    <tr style=\"text-align: right;\">\n",
              "      <th></th>\n",
              "      <th>Volatility_Copper_5_test_LSTM</th>\n",
              "      <th>Volatility_Copper_5_test_real_LSTM</th>\n",
              "    </tr>\n",
              "    <tr>\n",
              "      <th>Timestamp</th>\n",
              "      <th></th>\n",
              "      <th></th>\n",
              "    </tr>\n",
              "  </thead>\n",
              "  <tbody>\n",
              "    <tr>\n",
              "      <th>2017-01-02</th>\n",
              "      <td>NaN</td>\n",
              "      <td>NaN</td>\n",
              "    </tr>\n",
              "    <tr>\n",
              "      <th>2017-01-03</th>\n",
              "      <td>NaN</td>\n",
              "      <td>NaN</td>\n",
              "    </tr>\n",
              "    <tr>\n",
              "      <th>2017-01-04</th>\n",
              "      <td>NaN</td>\n",
              "      <td>NaN</td>\n",
              "    </tr>\n",
              "    <tr>\n",
              "      <th>2017-01-05</th>\n",
              "      <td>NaN</td>\n",
              "      <td>NaN</td>\n",
              "    </tr>\n",
              "    <tr>\n",
              "      <th>2017-01-06</th>\n",
              "      <td>NaN</td>\n",
              "      <td>NaN</td>\n",
              "    </tr>\n",
              "    <tr>\n",
              "      <th>2017-01-09</th>\n",
              "      <td>0.280320</td>\n",
              "      <td>0.270230</td>\n",
              "    </tr>\n",
              "    <tr>\n",
              "      <th>2017-01-10</th>\n",
              "      <td>0.274934</td>\n",
              "      <td>0.270313</td>\n",
              "    </tr>\n",
              "    <tr>\n",
              "      <th>2017-01-11</th>\n",
              "      <td>0.271515</td>\n",
              "      <td>0.275176</td>\n",
              "    </tr>\n",
              "    <tr>\n",
              "      <th>2017-01-12</th>\n",
              "      <td>0.272919</td>\n",
              "      <td>0.273618</td>\n",
              "    </tr>\n",
              "    <tr>\n",
              "      <th>2017-01-13</th>\n",
              "      <td>0.273110</td>\n",
              "      <td>0.283353</td>\n",
              "    </tr>\n",
              "    <tr>\n",
              "      <th>2017-01-16</th>\n",
              "      <td>0.279068</td>\n",
              "      <td>0.284729</td>\n",
              "    </tr>\n",
              "    <tr>\n",
              "      <th>2017-01-17</th>\n",
              "      <td>0.282834</td>\n",
              "      <td>0.235911</td>\n",
              "    </tr>\n",
              "    <tr>\n",
              "      <th>2017-01-18</th>\n",
              "      <td>0.261191</td>\n",
              "      <td>0.160726</td>\n",
              "    </tr>\n",
              "    <tr>\n",
              "      <th>2017-01-19</th>\n",
              "      <td>0.225569</td>\n",
              "      <td>0.153947</td>\n",
              "    </tr>\n",
              "    <tr>\n",
              "      <th>2017-01-20</th>\n",
              "      <td>0.194178</td>\n",
              "      <td>0.148530</td>\n",
              "    </tr>\n",
              "    <tr>\n",
              "      <th>2017-01-23</th>\n",
              "      <td>0.168441</td>\n",
              "      <td>0.145745</td>\n",
              "    </tr>\n",
              "    <tr>\n",
              "      <th>2017-01-24</th>\n",
              "      <td>0.151127</td>\n",
              "      <td>0.143914</td>\n",
              "    </tr>\n",
              "    <tr>\n",
              "      <th>2017-01-25</th>\n",
              "      <td>0.143832</td>\n",
              "      <td>0.156793</td>\n",
              "    </tr>\n",
              "    <tr>\n",
              "      <th>2017-01-27</th>\n",
              "      <td>0.148148</td>\n",
              "      <td>0.156732</td>\n",
              "    </tr>\n",
              "    <tr>\n",
              "      <th>2017-01-30</th>\n",
              "      <td>0.152074</td>\n",
              "      <td>0.158888</td>\n",
              "    </tr>\n",
              "    <tr>\n",
              "      <th>2017-01-31</th>\n",
              "      <td>0.154757</td>\n",
              "      <td>0.159950</td>\n",
              "    </tr>\n",
              "    <tr>\n",
              "      <th>2017-02-01</th>\n",
              "      <td>0.156258</td>\n",
              "      <td>0.148852</td>\n",
              "    </tr>\n",
              "    <tr>\n",
              "      <th>2017-02-02</th>\n",
              "      <td>0.152535</td>\n",
              "      <td>0.152647</td>\n",
              "    </tr>\n",
              "    <tr>\n",
              "      <th>2017-02-03</th>\n",
              "      <td>0.150573</td>\n",
              "      <td>0.158844</td>\n",
              "    </tr>\n",
              "    <tr>\n",
              "      <th>2017-02-06</th>\n",
              "      <td>0.152560</td>\n",
              "      <td>0.183766</td>\n",
              "    </tr>\n",
              "    <tr>\n",
              "      <th>2017-02-07</th>\n",
              "      <td>0.167278</td>\n",
              "      <td>0.183379</td>\n",
              "    </tr>\n",
              "    <tr>\n",
              "      <th>2017-02-08</th>\n",
              "      <td>0.176695</td>\n",
              "      <td>0.184548</td>\n",
              "    </tr>\n",
              "    <tr>\n",
              "      <th>2017-02-09</th>\n",
              "      <td>0.181189</td>\n",
              "      <td>0.181857</td>\n",
              "    </tr>\n",
              "    <tr>\n",
              "      <th>2017-02-10</th>\n",
              "      <td>0.181179</td>\n",
              "      <td>0.184668</td>\n",
              "    </tr>\n",
              "    <tr>\n",
              "      <th>2017-02-13</th>\n",
              "      <td>0.181014</td>\n",
              "      <td>0.196050</td>\n",
              "    </tr>\n",
              "    <tr>\n",
              "      <th>2017-02-14</th>\n",
              "      <td>0.187679</td>\n",
              "      <td>0.207324</td>\n",
              "    </tr>\n",
              "    <tr>\n",
              "      <th>2017-02-15</th>\n",
              "      <td>0.197925</td>\n",
              "      <td>0.217275</td>\n",
              "    </tr>\n",
              "    <tr>\n",
              "      <th>2017-02-16</th>\n",
              "      <td>0.208744</td>\n",
              "      <td>0.215999</td>\n",
              "    </tr>\n",
              "    <tr>\n",
              "      <th>2017-02-17</th>\n",
              "      <td>0.213329</td>\n",
              "      <td>0.200416</td>\n",
              "    </tr>\n",
              "    <tr>\n",
              "      <th>2017-02-20</th>\n",
              "      <td>0.206641</td>\n",
              "      <td>0.194910</td>\n",
              "    </tr>\n",
              "    <tr>\n",
              "      <th>2017-02-21</th>\n",
              "      <td>0.198359</td>\n",
              "      <td>0.194528</td>\n",
              "    </tr>\n",
              "    <tr>\n",
              "      <th>2017-02-22</th>\n",
              "      <td>0.193458</td>\n",
              "      <td>0.197943</td>\n",
              "    </tr>\n",
              "    <tr>\n",
              "      <th>2017-02-23</th>\n",
              "      <td>0.193492</td>\n",
              "      <td>0.180951</td>\n",
              "    </tr>\n",
              "    <tr>\n",
              "      <th>2017-02-24</th>\n",
              "      <td>0.187020</td>\n",
              "      <td>0.215609</td>\n",
              "    </tr>\n",
              "    <tr>\n",
              "      <th>2017-02-27</th>\n",
              "      <td>0.199780</td>\n",
              "      <td>0.208816</td>\n",
              "    </tr>\n",
              "    <tr>\n",
              "      <th>2017-02-28</th>\n",
              "      <td>0.205019</td>\n",
              "      <td>0.206397</td>\n",
              "    </tr>\n",
              "    <tr>\n",
              "      <th>2017-03-01</th>\n",
              "      <td>0.205400</td>\n",
              "      <td>0.207680</td>\n",
              "    </tr>\n",
              "    <tr>\n",
              "      <th>2017-03-02</th>\n",
              "      <td>0.206299</td>\n",
              "      <td>0.192218</td>\n",
              "    </tr>\n",
              "    <tr>\n",
              "      <th>2017-03-03</th>\n",
              "      <td>0.197702</td>\n",
              "      <td>0.201144</td>\n",
              "    </tr>\n",
              "    <tr>\n",
              "      <th>2017-03-06</th>\n",
              "      <td>0.196884</td>\n",
              "      <td>0.201397</td>\n",
              "    </tr>\n",
              "    <tr>\n",
              "      <th>2017-03-07</th>\n",
              "      <td>0.197893</td>\n",
              "      <td>0.207884</td>\n",
              "    </tr>\n",
              "    <tr>\n",
              "      <th>2017-03-08</th>\n",
              "      <td>0.201982</td>\n",
              "      <td>0.212133</td>\n",
              "    </tr>\n",
              "    <tr>\n",
              "      <th>2017-03-09</th>\n",
              "      <td>0.207403</td>\n",
              "      <td>0.195429</td>\n",
              "    </tr>\n",
              "    <tr>\n",
              "      <th>2017-03-10</th>\n",
              "      <td>0.201117</td>\n",
              "      <td>0.195603</td>\n",
              "    </tr>\n",
              "    <tr>\n",
              "      <th>2017-03-13</th>\n",
              "      <td>0.195989</td>\n",
              "      <td>0.196175</td>\n",
              "    </tr>\n",
              "  </tbody>\n",
              "</table>\n",
              "</div>"
            ],
            "text/plain": [
              "            Volatility_Copper_5_test_LSTM  Volatility_Copper_5_test_real_LSTM\n",
              "Timestamp                                                                    \n",
              "2017-01-02                            NaN                                 NaN\n",
              "2017-01-03                            NaN                                 NaN\n",
              "2017-01-04                            NaN                                 NaN\n",
              "2017-01-05                            NaN                                 NaN\n",
              "2017-01-06                            NaN                                 NaN\n",
              "2017-01-09                       0.280320                            0.270230\n",
              "2017-01-10                       0.274934                            0.270313\n",
              "2017-01-11                       0.271515                            0.275176\n",
              "2017-01-12                       0.272919                            0.273618\n",
              "2017-01-13                       0.273110                            0.283353\n",
              "2017-01-16                       0.279068                            0.284729\n",
              "2017-01-17                       0.282834                            0.235911\n",
              "2017-01-18                       0.261191                            0.160726\n",
              "2017-01-19                       0.225569                            0.153947\n",
              "2017-01-20                       0.194178                            0.148530\n",
              "2017-01-23                       0.168441                            0.145745\n",
              "2017-01-24                       0.151127                            0.143914\n",
              "2017-01-25                       0.143832                            0.156793\n",
              "2017-01-27                       0.148148                            0.156732\n",
              "2017-01-30                       0.152074                            0.158888\n",
              "2017-01-31                       0.154757                            0.159950\n",
              "2017-02-01                       0.156258                            0.148852\n",
              "2017-02-02                       0.152535                            0.152647\n",
              "2017-02-03                       0.150573                            0.158844\n",
              "2017-02-06                       0.152560                            0.183766\n",
              "2017-02-07                       0.167278                            0.183379\n",
              "2017-02-08                       0.176695                            0.184548\n",
              "2017-02-09                       0.181189                            0.181857\n",
              "2017-02-10                       0.181179                            0.184668\n",
              "2017-02-13                       0.181014                            0.196050\n",
              "2017-02-14                       0.187679                            0.207324\n",
              "2017-02-15                       0.197925                            0.217275\n",
              "2017-02-16                       0.208744                            0.215999\n",
              "2017-02-17                       0.213329                            0.200416\n",
              "2017-02-20                       0.206641                            0.194910\n",
              "2017-02-21                       0.198359                            0.194528\n",
              "2017-02-22                       0.193458                            0.197943\n",
              "2017-02-23                       0.193492                            0.180951\n",
              "2017-02-24                       0.187020                            0.215609\n",
              "2017-02-27                       0.199780                            0.208816\n",
              "2017-02-28                       0.205019                            0.206397\n",
              "2017-03-01                       0.205400                            0.207680\n",
              "2017-03-02                       0.206299                            0.192218\n",
              "2017-03-03                       0.197702                            0.201144\n",
              "2017-03-06                       0.196884                            0.201397\n",
              "2017-03-07                       0.197893                            0.207884\n",
              "2017-03-08                       0.201982                            0.212133\n",
              "2017-03-09                       0.207403                            0.195429\n",
              "2017-03-10                       0.201117                            0.195603\n",
              "2017-03-13                       0.195989                            0.196175"
            ]
          },
          "metadata": {
            "tags": []
          },
          "execution_count": 46
        }
      ]
    },
    {
      "cell_type": "code",
      "metadata": {
        "id": "hUgPe6vHWlSY"
      },
      "source": [
        "df1 = df1.dropna()"
      ],
      "execution_count": null,
      "outputs": []
    },
    {
      "cell_type": "code",
      "metadata": {
        "id": "yWMn7PACYA5F",
        "outputId": "3c0c4318-c617-4e80-c02b-fed448cd02cd",
        "colab": {
          "base_uri": "https://localhost:8080/",
          "height": 233
        }
      },
      "source": [
        "df1.head()"
      ],
      "execution_count": null,
      "outputs": [
        {
          "output_type": "execute_result",
          "data": {
            "text/html": [
              "<div>\n",
              "<style scoped>\n",
              "    .dataframe tbody tr th:only-of-type {\n",
              "        vertical-align: middle;\n",
              "    }\n",
              "\n",
              "    .dataframe tbody tr th {\n",
              "        vertical-align: top;\n",
              "    }\n",
              "\n",
              "    .dataframe thead th {\n",
              "        text-align: right;\n",
              "    }\n",
              "</style>\n",
              "<table border=\"1\" class=\"dataframe\">\n",
              "  <thead>\n",
              "    <tr style=\"text-align: right;\">\n",
              "      <th></th>\n",
              "      <th>Volatility_Copper_True_test</th>\n",
              "      <th>Volatility_Copper_5_test_LSTM</th>\n",
              "      <th>Volatility_Copper_5_test_real_LSTM</th>\n",
              "      <th>Volatility_Copper_22_test_LSTM</th>\n",
              "      <th>Volatility_Copper_22_test_real_LSTM</th>\n",
              "    </tr>\n",
              "    <tr>\n",
              "      <th>Timestamp</th>\n",
              "      <th></th>\n",
              "      <th></th>\n",
              "      <th></th>\n",
              "      <th></th>\n",
              "      <th></th>\n",
              "    </tr>\n",
              "  </thead>\n",
              "  <tbody>\n",
              "    <tr>\n",
              "      <th>2017-02-02</th>\n",
              "      <td>0.152647</td>\n",
              "      <td>0.152535</td>\n",
              "      <td>0.152647</td>\n",
              "      <td>0.138211</td>\n",
              "      <td>0.152647</td>\n",
              "    </tr>\n",
              "    <tr>\n",
              "      <th>2017-02-03</th>\n",
              "      <td>0.158844</td>\n",
              "      <td>0.150573</td>\n",
              "      <td>0.158844</td>\n",
              "      <td>0.139019</td>\n",
              "      <td>0.158844</td>\n",
              "    </tr>\n",
              "    <tr>\n",
              "      <th>2017-02-06</th>\n",
              "      <td>0.183766</td>\n",
              "      <td>0.152560</td>\n",
              "      <td>0.183766</td>\n",
              "      <td>0.141493</td>\n",
              "      <td>0.183766</td>\n",
              "    </tr>\n",
              "    <tr>\n",
              "      <th>2017-02-07</th>\n",
              "      <td>0.183379</td>\n",
              "      <td>0.167278</td>\n",
              "      <td>0.183379</td>\n",
              "      <td>0.151510</td>\n",
              "      <td>0.183379</td>\n",
              "    </tr>\n",
              "    <tr>\n",
              "      <th>2017-02-08</th>\n",
              "      <td>0.184548</td>\n",
              "      <td>0.176695</td>\n",
              "      <td>0.184548</td>\n",
              "      <td>0.161590</td>\n",
              "      <td>0.184548</td>\n",
              "    </tr>\n",
              "  </tbody>\n",
              "</table>\n",
              "</div>"
            ],
            "text/plain": [
              "            Volatility_Copper_True_test  ...  Volatility_Copper_22_test_real_LSTM\n",
              "Timestamp                                ...                                     \n",
              "2017-02-02                     0.152647  ...                             0.152647\n",
              "2017-02-03                     0.158844  ...                             0.158844\n",
              "2017-02-06                     0.183766  ...                             0.183766\n",
              "2017-02-07                     0.183379  ...                             0.183379\n",
              "2017-02-08                     0.184548  ...                             0.184548\n",
              "\n",
              "[5 rows x 5 columns]"
            ]
          },
          "metadata": {
            "tags": []
          },
          "execution_count": 48
        }
      ]
    },
    {
      "cell_type": "code",
      "metadata": {
        "id": "FTqWy67xYJft",
        "outputId": "512d603a-996d-4b6f-86e5-1f491ff98ba9",
        "colab": {
          "base_uri": "https://localhost:8080/",
          "height": 34
        }
      },
      "source": [
        "rmse(df1.Volatility_Copper_5_test_real_LSTM.to_numpy(),df1.Volatility_Copper_5_test_LSTM.to_numpy())"
      ],
      "execution_count": null,
      "outputs": [
        {
          "output_type": "execute_result",
          "data": {
            "text/plain": [
              "0.022357359383797317"
            ]
          },
          "metadata": {
            "tags": []
          },
          "execution_count": 49
        }
      ]
    },
    {
      "cell_type": "code",
      "metadata": {
        "id": "MvvrDdZXYQCV",
        "outputId": "65d40459-d3b4-4ab1-a9bc-8f8cc8a4f0aa",
        "colab": {
          "base_uri": "https://localhost:8080/",
          "height": 34
        }
      },
      "source": [
        "rmse(df1.Volatility_Copper_22_test_real_LSTM.to_numpy(),df1.Volatility_Copper_22_test_LSTM.to_numpy())"
      ],
      "execution_count": null,
      "outputs": [
        {
          "output_type": "execute_result",
          "data": {
            "text/plain": [
              "0.02300854160326041"
            ]
          },
          "metadata": {
            "tags": []
          },
          "execution_count": 50
        }
      ]
    },
    {
      "cell_type": "code",
      "metadata": {
        "id": "kzp6ockEPm44",
        "outputId": "5e36da9c-25d1-47b1-afd5-cc93b40d4e25",
        "colab": {
          "base_uri": "https://localhost:8080/",
          "height": 34
        }
      },
      "source": [
        "mae(df1.Volatility_Copper_5_test_real_LSTM.to_numpy(),df1.Volatility_Copper_5_test_LSTM.to_numpy())"
      ],
      "execution_count": null,
      "outputs": [
        {
          "output_type": "execute_result",
          "data": {
            "text/plain": [
              "0.01344550398944489"
            ]
          },
          "metadata": {
            "tags": []
          },
          "execution_count": 51
        }
      ]
    },
    {
      "cell_type": "code",
      "metadata": {
        "id": "7BJXx_cpPgTH",
        "outputId": "d9591f86-9eab-4568-9b45-05c01904afd7",
        "colab": {
          "base_uri": "https://localhost:8080/",
          "height": 34
        }
      },
      "source": [
        "mae(df1.Volatility_Copper_22_test_real_LSTM.to_numpy(),df1.Volatility_Copper_22_test_LSTM.to_numpy())"
      ],
      "execution_count": null,
      "outputs": [
        {
          "output_type": "execute_result",
          "data": {
            "text/plain": [
              "0.014248006930705943"
            ]
          },
          "metadata": {
            "tags": []
          },
          "execution_count": 52
        }
      ]
    },
    {
      "cell_type": "code",
      "metadata": {
        "id": "LHmS-rjhPsx3",
        "outputId": "be7ae4b7-a81b-4f0c-c72e-3a64ff8ce5bd",
        "colab": {
          "base_uri": "https://localhost:8080/",
          "height": 34
        }
      },
      "source": [
        "mape(df1.Volatility_Copper_5_test_real_LSTM.to_numpy(),df1.Volatility_Copper_5_test_LSTM.to_numpy())"
      ],
      "execution_count": null,
      "outputs": [
        {
          "output_type": "execute_result",
          "data": {
            "text/plain": [
              "0.42810164339529"
            ]
          },
          "metadata": {
            "tags": []
          },
          "execution_count": 53
        }
      ]
    },
    {
      "cell_type": "code",
      "metadata": {
        "id": "oLB8CfALPw2M",
        "outputId": "8574c07f-3e60-4025-c017-6542c623365f",
        "colab": {
          "base_uri": "https://localhost:8080/",
          "height": 34
        }
      },
      "source": [
        "mape(df1.Volatility_Copper_22_test_real_LSTM.to_numpy(),df1.Volatility_Copper_22_test_LSTM.to_numpy())"
      ],
      "execution_count": null,
      "outputs": [
        {
          "output_type": "execute_result",
          "data": {
            "text/plain": [
              "0.37104765719136"
            ]
          },
          "metadata": {
            "tags": []
          },
          "execution_count": 54
        }
      ]
    },
    {
      "cell_type": "code",
      "metadata": {
        "id": "uuoumj0pP1X7"
      },
      "source": [
        ""
      ],
      "execution_count": null,
      "outputs": []
    }
  ]
}