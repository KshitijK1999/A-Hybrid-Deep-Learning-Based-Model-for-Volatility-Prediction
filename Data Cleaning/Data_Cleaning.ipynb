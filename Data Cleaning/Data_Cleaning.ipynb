{
  "nbformat": 4,
  "nbformat_minor": 0,
  "metadata": {
    "colab": {
      "name": "Data_Cleaning.ipynb",
      "provenance": [],
      "collapsed_sections": []
    },
    "kernelspec": {
      "name": "python3",
      "display_name": "Python 3"
    }
  },
  "cells": [
    {
      "cell_type": "code",
      "metadata": {
        "id": "U51FOja0tRs7"
      },
      "source": [
        "\n",
        "import pandas as pd\n",
        "import numpy as np\n",
        "import datetime as dt"
      ],
      "execution_count": null,
      "outputs": []
    },
    {
      "cell_type": "code",
      "metadata": {
        "id": "oegraLoWOiQe",
        "outputId": "01345922-3463-4ffa-e184-7fa94055682e",
        "colab": {
          "base_uri": "https://localhost:8080/",
          "height": 350
        }
      },
      "source": [
        "pip install pandas_ods_reader\n"
      ],
      "execution_count": null,
      "outputs": [
        {
          "output_type": "stream",
          "text": [
            "Collecting pandas_ods_reader\n",
            "  Downloading https://files.pythonhosted.org/packages/d9/f8/c1097f90411ec2cdfee9686c469a8acabff678185d761345975fc559c9fc/pandas_ods_reader-0.0.7-py3-none-any.whl\n",
            "Requirement already satisfied: lxml in /usr/local/lib/python3.6/dist-packages (from pandas_ods_reader) (4.2.6)\n",
            "Requirement already satisfied: pandas in /usr/local/lib/python3.6/dist-packages (from pandas_ods_reader) (1.0.5)\n",
            "Collecting ezodf\n",
            "\u001b[?25l  Downloading https://files.pythonhosted.org/packages/6f/c5/e966935c26d58d7e3d962270be61be972409084374d4093f478d1f82e8af/ezodf-0.3.2.tar.gz (125kB)\n",
            "\u001b[K     |████████████████████████████████| 133kB 3.7MB/s \n",
            "\u001b[?25hRequirement already satisfied: python-dateutil>=2.6.1 in /usr/local/lib/python3.6/dist-packages (from pandas->pandas_ods_reader) (2.8.1)\n",
            "Requirement already satisfied: pytz>=2017.2 in /usr/local/lib/python3.6/dist-packages (from pandas->pandas_ods_reader) (2018.9)\n",
            "Requirement already satisfied: numpy>=1.13.3 in /usr/local/lib/python3.6/dist-packages (from pandas->pandas_ods_reader) (1.18.5)\n",
            "Requirement already satisfied: six>=1.5 in /usr/local/lib/python3.6/dist-packages (from python-dateutil>=2.6.1->pandas->pandas_ods_reader) (1.15.0)\n",
            "Building wheels for collected packages: ezodf\n",
            "  Building wheel for ezodf (setup.py) ... \u001b[?25l\u001b[?25hdone\n",
            "  Created wheel for ezodf: filename=ezodf-0.3.2-py2.py3-none-any.whl size=49001 sha256=4558417712098ecb9707553930542bf86bc8a42ea2a122ec94a63ca39a35337f\n",
            "  Stored in directory: /root/.cache/pip/wheels/c9/6c/f9/107d39d45441980bf273757eba003ef057c6193c9d7650fac7\n",
            "Successfully built ezodf\n",
            "Installing collected packages: ezodf, pandas-ods-reader\n",
            "Successfully installed ezodf-0.3.2 pandas-ods-reader-0.0.7\n"
          ],
          "name": "stdout"
        }
      ]
    },
    {
      "cell_type": "code",
      "metadata": {
        "id": "H77ySkfPORpq"
      },
      "source": [
        "from pandas_ods_reader import read_ods"
      ],
      "execution_count": null,
      "outputs": []
    },
    {
      "cell_type": "code",
      "metadata": {
        "id": "j26H3_hvQYat",
        "outputId": "197a446d-6dee-42e3-ee52-6bf22d9a5337",
        "colab": {
          "base_uri": "https://localhost:8080/",
          "height": 228
        }
      },
      "source": [
        "pip install odfpy"
      ],
      "execution_count": null,
      "outputs": [
        {
          "output_type": "stream",
          "text": [
            "Collecting odfpy\n",
            "\u001b[?25l  Downloading https://files.pythonhosted.org/packages/97/73/8ade73f6749177003f7ce3304f524774adda96e6aaab30ea79fd8fda7934/odfpy-1.4.1.tar.gz (717kB)\n",
            "\u001b[K     |████████████████████████████████| 727kB 2.8MB/s \n",
            "\u001b[?25hRequirement already satisfied: defusedxml in /usr/local/lib/python3.6/dist-packages (from odfpy) (0.6.0)\n",
            "Building wheels for collected packages: odfpy\n",
            "  Building wheel for odfpy (setup.py) ... \u001b[?25l\u001b[?25hdone\n",
            "  Created wheel for odfpy: filename=odfpy-1.4.1-py2.py3-none-any.whl size=160692 sha256=7b54388eb574fcac9dc05ceea7d1c3e452813479615590c087d7d641438a043a\n",
            "  Stored in directory: /root/.cache/pip/wheels/ce/6b/93/ec330f2991c5f1546abf640360e5a2022f76cb16e5d99ed2fd\n",
            "Successfully built odfpy\n",
            "Installing collected packages: odfpy\n",
            "Successfully installed odfpy-1.4.1\n"
          ],
          "name": "stdout"
        }
      ]
    },
    {
      "cell_type": "code",
      "metadata": {
        "id": "BdaEwXTXtnPY"
      },
      "source": [
        "df1 = pd.read_excel(\"/content/Copper1.ods\", engine=\"odf\")\n",
        "df2 = pd.read_excel(\"/content/Copper2.ods\", engine=\"odf\")\n",
        "df3 = pd.read_excel(\"/content/zinc1.ods\", engine=\"odf\")\n",
        "df4 = pd.read_excel(\"/content/zinc2.ods\", engine=\"odf\")"
      ],
      "execution_count": null,
      "outputs": []
    },
    {
      "cell_type": "code",
      "metadata": {
        "id": "MDXFRv1414rX",
        "outputId": "21ce6287-18d4-48d3-db72-f75341d151d5",
        "colab": {
          "base_uri": "https://localhost:8080/",
          "height": 206
        }
      },
      "source": [
        "df4.tail()"
      ],
      "execution_count": null,
      "outputs": [
        {
          "output_type": "execute_result",
          "data": {
            "text/html": [
              "<div>\n",
              "<style scoped>\n",
              "    .dataframe tbody tr th:only-of-type {\n",
              "        vertical-align: middle;\n",
              "    }\n",
              "\n",
              "    .dataframe tbody tr th {\n",
              "        vertical-align: top;\n",
              "    }\n",
              "\n",
              "    .dataframe thead th {\n",
              "        text-align: right;\n",
              "    }\n",
              "</style>\n",
              "<table border=\"1\" class=\"dataframe\">\n",
              "  <thead>\n",
              "    <tr style=\"text-align: right;\">\n",
              "      <th></th>\n",
              "      <th>Time</th>\n",
              "      <th>Zinc_fut</th>\n",
              "    </tr>\n",
              "  </thead>\n",
              "  <tbody>\n",
              "    <tr>\n",
              "      <th>2287</th>\n",
              "      <td>2020-06-22</td>\n",
              "      <td>163.05</td>\n",
              "    </tr>\n",
              "    <tr>\n",
              "      <th>2288</th>\n",
              "      <td>2020-06-23</td>\n",
              "      <td>161.45</td>\n",
              "    </tr>\n",
              "    <tr>\n",
              "      <th>2289</th>\n",
              "      <td>2020-06-24</td>\n",
              "      <td>161.10</td>\n",
              "    </tr>\n",
              "    <tr>\n",
              "      <th>2290</th>\n",
              "      <td>2020-06-25</td>\n",
              "      <td>163.70</td>\n",
              "    </tr>\n",
              "    <tr>\n",
              "      <th>2291</th>\n",
              "      <td>2020-06-26</td>\n",
              "      <td>166.00</td>\n",
              "    </tr>\n",
              "  </tbody>\n",
              "</table>\n",
              "</div>"
            ],
            "text/plain": [
              "           Time  Zinc_fut\n",
              "2287 2020-06-22    163.05\n",
              "2288 2020-06-23    161.45\n",
              "2289 2020-06-24    161.10\n",
              "2290 2020-06-25    163.70\n",
              "2291 2020-06-26    166.00"
            ]
          },
          "metadata": {
            "tags": []
          },
          "execution_count": 15
        }
      ]
    },
    {
      "cell_type": "code",
      "metadata": {
        "id": "4wDSuA62bdji",
        "outputId": "f76b8918-0418-4eaf-c6e2-7eba13662ff0",
        "colab": {
          "base_uri": "https://localhost:8080/",
          "height": 173
        }
      },
      "source": [
        "df1.info()"
      ],
      "execution_count": null,
      "outputs": [
        {
          "output_type": "stream",
          "text": [
            "<class 'pandas.core.frame.DataFrame'>\n",
            "RangeIndex: 2029 entries, 0 to 2028\n",
            "Data columns (total 2 columns):\n",
            " #   Column       Non-Null Count  Dtype         \n",
            "---  ------       --------------  -----         \n",
            " 0   Time         2029 non-null   datetime64[ns]\n",
            " 1   Copper_spot  2029 non-null   float64       \n",
            "dtypes: datetime64[ns](1), float64(1)\n",
            "memory usage: 31.8 KB\n"
          ],
          "name": "stdout"
        }
      ]
    },
    {
      "cell_type": "code",
      "metadata": {
        "id": "a4gykDambhQq",
        "outputId": "61dc3c9f-1c6f-486f-c030-5b417bc96aa0",
        "colab": {
          "base_uri": "https://localhost:8080/",
          "height": 173
        }
      },
      "source": [
        "df3.info()"
      ],
      "execution_count": null,
      "outputs": [
        {
          "output_type": "stream",
          "text": [
            "<class 'pandas.core.frame.DataFrame'>\n",
            "RangeIndex: 2073 entries, 0 to 2072\n",
            "Data columns (total 2 columns):\n",
            " #   Column     Non-Null Count  Dtype         \n",
            "---  ------     --------------  -----         \n",
            " 0   Time       2073 non-null   datetime64[ns]\n",
            " 1   Zinc_Spot  2073 non-null   float64       \n",
            "dtypes: datetime64[ns](1), float64(1)\n",
            "memory usage: 32.5 KB\n"
          ],
          "name": "stdout"
        }
      ]
    },
    {
      "cell_type": "code",
      "metadata": {
        "id": "sM8SP5FmcGQ-"
      },
      "source": [
        "df1['Time']=pd.to_datetime(df1['Time'])\n",
        "df2['Time']=pd.to_datetime(df2['Time'])\n",
        "df3['Time']=pd.to_datetime(df3['Time'])\n",
        "df4['Time']=pd.to_datetime(df4['Time'])"
      ],
      "execution_count": null,
      "outputs": []
    },
    {
      "cell_type": "code",
      "metadata": {
        "id": "3y49LIJMceAQ",
        "outputId": "7405b5f4-4884-454f-cab9-976cdb6d2d2f",
        "colab": {
          "base_uri": "https://localhost:8080/",
          "height": 173
        }
      },
      "source": [
        "df3.info()"
      ],
      "execution_count": null,
      "outputs": [
        {
          "output_type": "stream",
          "text": [
            "<class 'pandas.core.frame.DataFrame'>\n",
            "RangeIndex: 2073 entries, 0 to 2072\n",
            "Data columns (total 2 columns):\n",
            " #   Column     Non-Null Count  Dtype         \n",
            "---  ------     --------------  -----         \n",
            " 0   Time       2073 non-null   datetime64[ns]\n",
            " 1   Zinc_Spot  2073 non-null   float64       \n",
            "dtypes: datetime64[ns](1), float64(1)\n",
            "memory usage: 32.5 KB\n"
          ],
          "name": "stdout"
        }
      ]
    },
    {
      "cell_type": "code",
      "metadata": {
        "id": "MaCs5Or-YB37"
      },
      "source": [
        "\n",
        "\n",
        "df1['Time'] = pd.to_datetime(df1['Time'].dt.date)\n",
        "\n",
        "df2['Time'] = pd.to_datetime(df2['Time'].dt.date)\n",
        "\n",
        "df3['Time'] = pd.to_datetime(df3['Time'].dt.date)\n",
        "\n",
        "df4['Time'] = pd.to_datetime(df4['Time'].dt.date)"
      ],
      "execution_count": null,
      "outputs": []
    },
    {
      "cell_type": "code",
      "metadata": {
        "id": "LVPc8w5ar98u",
        "outputId": "c3efada7-1217-4bb1-b35c-74dd558e3160",
        "colab": {
          "base_uri": "https://localhost:8080/",
          "height": 424
        }
      },
      "source": [
        "df1"
      ],
      "execution_count": null,
      "outputs": [
        {
          "output_type": "execute_result",
          "data": {
            "text/html": [
              "<div>\n",
              "<style scoped>\n",
              "    .dataframe tbody tr th:only-of-type {\n",
              "        vertical-align: middle;\n",
              "    }\n",
              "\n",
              "    .dataframe tbody tr th {\n",
              "        vertical-align: top;\n",
              "    }\n",
              "\n",
              "    .dataframe thead th {\n",
              "        text-align: right;\n",
              "    }\n",
              "</style>\n",
              "<table border=\"1\" class=\"dataframe\">\n",
              "  <thead>\n",
              "    <tr style=\"text-align: right;\">\n",
              "      <th></th>\n",
              "      <th>Time</th>\n",
              "      <th>Copper_spot</th>\n",
              "    </tr>\n",
              "  </thead>\n",
              "  <tbody>\n",
              "    <tr>\n",
              "      <th>0</th>\n",
              "      <td>2012-04-09</td>\n",
              "      <td>427.15</td>\n",
              "    </tr>\n",
              "    <tr>\n",
              "      <th>1</th>\n",
              "      <td>2012-04-10</td>\n",
              "      <td>420.55</td>\n",
              "    </tr>\n",
              "    <tr>\n",
              "      <th>2</th>\n",
              "      <td>2012-04-11</td>\n",
              "      <td>412.05</td>\n",
              "    </tr>\n",
              "    <tr>\n",
              "      <th>3</th>\n",
              "      <td>2012-04-12</td>\n",
              "      <td>413.60</td>\n",
              "    </tr>\n",
              "    <tr>\n",
              "      <th>4</th>\n",
              "      <td>2012-04-13</td>\n",
              "      <td>421.95</td>\n",
              "    </tr>\n",
              "    <tr>\n",
              "      <th>...</th>\n",
              "      <td>...</td>\n",
              "      <td>...</td>\n",
              "    </tr>\n",
              "    <tr>\n",
              "      <th>2024</th>\n",
              "      <td>2020-03-16</td>\n",
              "      <td>417.80</td>\n",
              "    </tr>\n",
              "    <tr>\n",
              "      <th>2025</th>\n",
              "      <td>2020-03-17</td>\n",
              "      <td>415.15</td>\n",
              "    </tr>\n",
              "    <tr>\n",
              "      <th>2026</th>\n",
              "      <td>2020-03-18</td>\n",
              "      <td>393.50</td>\n",
              "    </tr>\n",
              "    <tr>\n",
              "      <th>2027</th>\n",
              "      <td>2020-03-19</td>\n",
              "      <td>367.85</td>\n",
              "    </tr>\n",
              "    <tr>\n",
              "      <th>2028</th>\n",
              "      <td>2020-03-20</td>\n",
              "      <td>388.30</td>\n",
              "    </tr>\n",
              "  </tbody>\n",
              "</table>\n",
              "<p>2029 rows × 2 columns</p>\n",
              "</div>"
            ],
            "text/plain": [
              "           Time  Copper_spot\n",
              "0    2012-04-09       427.15\n",
              "1    2012-04-10       420.55\n",
              "2    2012-04-11       412.05\n",
              "3    2012-04-12       413.60\n",
              "4    2012-04-13       421.95\n",
              "...         ...          ...\n",
              "2024 2020-03-16       417.80\n",
              "2025 2020-03-17       415.15\n",
              "2026 2020-03-18       393.50\n",
              "2027 2020-03-19       367.85\n",
              "2028 2020-03-20       388.30\n",
              "\n",
              "[2029 rows x 2 columns]"
            ]
          },
          "metadata": {
            "tags": []
          },
          "execution_count": 26
        }
      ]
    },
    {
      "cell_type": "code",
      "metadata": {
        "id": "VP3LcPIx4evz"
      },
      "source": [
        "df5 = df2.merge(df1, how='outer', left_on='Time',right_on='Time')"
      ],
      "execution_count": null,
      "outputs": []
    },
    {
      "cell_type": "code",
      "metadata": {
        "id": "CHZOxaDj4_GM"
      },
      "source": [
        "df5 = df5.sort_values(['Time'],ascending=[True])"
      ],
      "execution_count": null,
      "outputs": []
    },
    {
      "cell_type": "code",
      "metadata": {
        "id": "DkV0-Pcs5Hlb",
        "outputId": "a6d9aae5-e8cd-4faa-fb28-ed49425cc047",
        "colab": {
          "base_uri": "https://localhost:8080/",
          "height": 424
        }
      },
      "source": [
        "df5.head(100\n",
        "         )"
      ],
      "execution_count": null,
      "outputs": [
        {
          "output_type": "execute_result",
          "data": {
            "text/html": [
              "<div>\n",
              "<style scoped>\n",
              "    .dataframe tbody tr th:only-of-type {\n",
              "        vertical-align: middle;\n",
              "    }\n",
              "\n",
              "    .dataframe tbody tr th {\n",
              "        vertical-align: top;\n",
              "    }\n",
              "\n",
              "    .dataframe thead th {\n",
              "        text-align: right;\n",
              "    }\n",
              "</style>\n",
              "<table border=\"1\" class=\"dataframe\">\n",
              "  <thead>\n",
              "    <tr style=\"text-align: right;\">\n",
              "      <th></th>\n",
              "      <th>Time</th>\n",
              "      <th>Copper_fut</th>\n",
              "      <th>Copper_spot</th>\n",
              "    </tr>\n",
              "  </thead>\n",
              "  <tbody>\n",
              "    <tr>\n",
              "      <th>0</th>\n",
              "      <td>2012-01-06</td>\n",
              "      <td>407.00</td>\n",
              "      <td>NaN</td>\n",
              "    </tr>\n",
              "    <tr>\n",
              "      <th>1</th>\n",
              "      <td>2012-01-07</td>\n",
              "      <td>407.15</td>\n",
              "      <td>NaN</td>\n",
              "    </tr>\n",
              "    <tr>\n",
              "      <th>2</th>\n",
              "      <td>2012-01-09</td>\n",
              "      <td>403.20</td>\n",
              "      <td>NaN</td>\n",
              "    </tr>\n",
              "    <tr>\n",
              "      <th>3</th>\n",
              "      <td>2012-01-10</td>\n",
              "      <td>399.55</td>\n",
              "      <td>NaN</td>\n",
              "    </tr>\n",
              "    <tr>\n",
              "      <th>4</th>\n",
              "      <td>2012-01-11</td>\n",
              "      <td>400.05</td>\n",
              "      <td>NaN</td>\n",
              "    </tr>\n",
              "    <tr>\n",
              "      <th>...</th>\n",
              "      <td>...</td>\n",
              "      <td>...</td>\n",
              "      <td>...</td>\n",
              "    </tr>\n",
              "    <tr>\n",
              "      <th>95</th>\n",
              "      <td>2012-04-28</td>\n",
              "      <td>414.75</td>\n",
              "      <td>NaN</td>\n",
              "    </tr>\n",
              "    <tr>\n",
              "      <th>96</th>\n",
              "      <td>2012-04-30</td>\n",
              "      <td>415.05</td>\n",
              "      <td>443.65</td>\n",
              "    </tr>\n",
              "    <tr>\n",
              "      <th>97</th>\n",
              "      <td>2012-05-01</td>\n",
              "      <td>416.20</td>\n",
              "      <td>443.85</td>\n",
              "    </tr>\n",
              "    <tr>\n",
              "      <th>98</th>\n",
              "      <td>2012-05-02</td>\n",
              "      <td>418.25</td>\n",
              "      <td>445.00</td>\n",
              "    </tr>\n",
              "    <tr>\n",
              "      <th>99</th>\n",
              "      <td>2012-05-03</td>\n",
              "      <td>424.75</td>\n",
              "      <td>441.90</td>\n",
              "    </tr>\n",
              "  </tbody>\n",
              "</table>\n",
              "<p>100 rows × 3 columns</p>\n",
              "</div>"
            ],
            "text/plain": [
              "         Time  Copper_fut  Copper_spot\n",
              "0  2012-01-06      407.00          NaN\n",
              "1  2012-01-07      407.15          NaN\n",
              "2  2012-01-09      403.20          NaN\n",
              "3  2012-01-10      399.55          NaN\n",
              "4  2012-01-11      400.05          NaN\n",
              "..        ...         ...          ...\n",
              "95 2012-04-28      414.75          NaN\n",
              "96 2012-04-30      415.05       443.65\n",
              "97 2012-05-01      416.20       443.85\n",
              "98 2012-05-02      418.25       445.00\n",
              "99 2012-05-03      424.75       441.90\n",
              "\n",
              "[100 rows x 3 columns]"
            ]
          },
          "metadata": {
            "tags": []
          },
          "execution_count": 27
        }
      ]
    },
    {
      "cell_type": "code",
      "metadata": {
        "id": "eD2e7mUJ5ab7"
      },
      "source": [
        "df6 = df3.merge(df4, how='outer', left_on='Time',right_on='Time')\n",
        "df6 = df6.sort_values(['Time'],ascending=[True])"
      ],
      "execution_count": null,
      "outputs": []
    },
    {
      "cell_type": "code",
      "metadata": {
        "id": "PwINMYX0yisb",
        "outputId": "7c7e4f5a-fe31-4595-80c3-d5f213a66832",
        "colab": {
          "base_uri": "https://localhost:8080/",
          "height": 424
        }
      },
      "source": [
        "df6"
      ],
      "execution_count": null,
      "outputs": [
        {
          "output_type": "execute_result",
          "data": {
            "text/html": [
              "<div>\n",
              "<style scoped>\n",
              "    .dataframe tbody tr th:only-of-type {\n",
              "        vertical-align: middle;\n",
              "    }\n",
              "\n",
              "    .dataframe tbody tr th {\n",
              "        vertical-align: top;\n",
              "    }\n",
              "\n",
              "    .dataframe thead th {\n",
              "        text-align: right;\n",
              "    }\n",
              "</style>\n",
              "<table border=\"1\" class=\"dataframe\">\n",
              "  <thead>\n",
              "    <tr style=\"text-align: right;\">\n",
              "      <th></th>\n",
              "      <th>Time</th>\n",
              "      <th>Zinc_Spot</th>\n",
              "      <th>Zinc_fut</th>\n",
              "    </tr>\n",
              "  </thead>\n",
              "  <tbody>\n",
              "    <tr>\n",
              "      <th>2073</th>\n",
              "      <td>2012-01-04</td>\n",
              "      <td>NaN</td>\n",
              "      <td>99.00</td>\n",
              "    </tr>\n",
              "    <tr>\n",
              "      <th>2074</th>\n",
              "      <td>2012-01-05</td>\n",
              "      <td>NaN</td>\n",
              "      <td>98.20</td>\n",
              "    </tr>\n",
              "    <tr>\n",
              "      <th>2075</th>\n",
              "      <td>2012-01-06</td>\n",
              "      <td>NaN</td>\n",
              "      <td>98.80</td>\n",
              "    </tr>\n",
              "    <tr>\n",
              "      <th>2076</th>\n",
              "      <td>2012-01-07</td>\n",
              "      <td>NaN</td>\n",
              "      <td>98.10</td>\n",
              "    </tr>\n",
              "    <tr>\n",
              "      <th>2077</th>\n",
              "      <td>2012-01-09</td>\n",
              "      <td>NaN</td>\n",
              "      <td>97.85</td>\n",
              "    </tr>\n",
              "    <tr>\n",
              "      <th>...</th>\n",
              "      <td>...</td>\n",
              "      <td>...</td>\n",
              "      <td>...</td>\n",
              "    </tr>\n",
              "    <tr>\n",
              "      <th>2289</th>\n",
              "      <td>2020-06-22</td>\n",
              "      <td>NaN</td>\n",
              "      <td>163.05</td>\n",
              "    </tr>\n",
              "    <tr>\n",
              "      <th>2290</th>\n",
              "      <td>2020-06-23</td>\n",
              "      <td>NaN</td>\n",
              "      <td>161.45</td>\n",
              "    </tr>\n",
              "    <tr>\n",
              "      <th>2291</th>\n",
              "      <td>2020-06-24</td>\n",
              "      <td>NaN</td>\n",
              "      <td>161.10</td>\n",
              "    </tr>\n",
              "    <tr>\n",
              "      <th>2292</th>\n",
              "      <td>2020-06-25</td>\n",
              "      <td>NaN</td>\n",
              "      <td>163.70</td>\n",
              "    </tr>\n",
              "    <tr>\n",
              "      <th>2293</th>\n",
              "      <td>2020-06-26</td>\n",
              "      <td>NaN</td>\n",
              "      <td>166.00</td>\n",
              "    </tr>\n",
              "  </tbody>\n",
              "</table>\n",
              "<p>2294 rows × 3 columns</p>\n",
              "</div>"
            ],
            "text/plain": [
              "           Time  Zinc_Spot  Zinc_fut\n",
              "2073 2012-01-04        NaN     99.00\n",
              "2074 2012-01-05        NaN     98.20\n",
              "2075 2012-01-06        NaN     98.80\n",
              "2076 2012-01-07        NaN     98.10\n",
              "2077 2012-01-09        NaN     97.85\n",
              "...         ...        ...       ...\n",
              "2289 2020-06-22        NaN    163.05\n",
              "2290 2020-06-23        NaN    161.45\n",
              "2291 2020-06-24        NaN    161.10\n",
              "2292 2020-06-25        NaN    163.70\n",
              "2293 2020-06-26        NaN    166.00\n",
              "\n",
              "[2294 rows x 3 columns]"
            ]
          },
          "metadata": {
            "tags": []
          },
          "execution_count": 29
        }
      ]
    },
    {
      "cell_type": "code",
      "metadata": {
        "id": "s0ZEgR_iy8uW"
      },
      "source": [
        "df7 = df5.merge(df6, how='outer', left_on='Time',right_on='Time')\n",
        "df7 = df7.sort_values(['Time'],ascending=[True])"
      ],
      "execution_count": null,
      "outputs": []
    },
    {
      "cell_type": "code",
      "metadata": {
        "id": "r1OYHVvggnXw",
        "outputId": "5ece3306-61fa-4238-a88f-311f3b045015",
        "colab": {
          "base_uri": "https://localhost:8080/",
          "height": 424
        }
      },
      "source": [
        "df7"
      ],
      "execution_count": null,
      "outputs": [
        {
          "output_type": "execute_result",
          "data": {
            "text/html": [
              "<div>\n",
              "<style scoped>\n",
              "    .dataframe tbody tr th:only-of-type {\n",
              "        vertical-align: middle;\n",
              "    }\n",
              "\n",
              "    .dataframe tbody tr th {\n",
              "        vertical-align: top;\n",
              "    }\n",
              "\n",
              "    .dataframe thead th {\n",
              "        text-align: right;\n",
              "    }\n",
              "</style>\n",
              "<table border=\"1\" class=\"dataframe\">\n",
              "  <thead>\n",
              "    <tr style=\"text-align: right;\">\n",
              "      <th></th>\n",
              "      <th>Time</th>\n",
              "      <th>Copper_fut</th>\n",
              "      <th>Copper_spot</th>\n",
              "      <th>Zinc_Spot</th>\n",
              "      <th>Zinc_fut</th>\n",
              "    </tr>\n",
              "  </thead>\n",
              "  <tbody>\n",
              "    <tr>\n",
              "      <th>2292</th>\n",
              "      <td>2012-01-04</td>\n",
              "      <td>NaN</td>\n",
              "      <td>NaN</td>\n",
              "      <td>NaN</td>\n",
              "      <td>99.00</td>\n",
              "    </tr>\n",
              "    <tr>\n",
              "      <th>2293</th>\n",
              "      <td>2012-01-05</td>\n",
              "      <td>NaN</td>\n",
              "      <td>NaN</td>\n",
              "      <td>NaN</td>\n",
              "      <td>98.20</td>\n",
              "    </tr>\n",
              "    <tr>\n",
              "      <th>0</th>\n",
              "      <td>2012-01-06</td>\n",
              "      <td>407.00</td>\n",
              "      <td>NaN</td>\n",
              "      <td>NaN</td>\n",
              "      <td>98.80</td>\n",
              "    </tr>\n",
              "    <tr>\n",
              "      <th>1</th>\n",
              "      <td>2012-01-07</td>\n",
              "      <td>407.15</td>\n",
              "      <td>NaN</td>\n",
              "      <td>NaN</td>\n",
              "      <td>98.10</td>\n",
              "    </tr>\n",
              "    <tr>\n",
              "      <th>2</th>\n",
              "      <td>2012-01-09</td>\n",
              "      <td>403.20</td>\n",
              "      <td>NaN</td>\n",
              "      <td>NaN</td>\n",
              "      <td>97.85</td>\n",
              "    </tr>\n",
              "    <tr>\n",
              "      <th>...</th>\n",
              "      <td>...</td>\n",
              "      <td>...</td>\n",
              "      <td>...</td>\n",
              "      <td>...</td>\n",
              "      <td>...</td>\n",
              "    </tr>\n",
              "    <tr>\n",
              "      <th>2287</th>\n",
              "      <td>2020-06-22</td>\n",
              "      <td>449.25</td>\n",
              "      <td>NaN</td>\n",
              "      <td>NaN</td>\n",
              "      <td>163.05</td>\n",
              "    </tr>\n",
              "    <tr>\n",
              "      <th>2288</th>\n",
              "      <td>2020-06-23</td>\n",
              "      <td>448.65</td>\n",
              "      <td>NaN</td>\n",
              "      <td>NaN</td>\n",
              "      <td>161.45</td>\n",
              "    </tr>\n",
              "    <tr>\n",
              "      <th>2289</th>\n",
              "      <td>2020-06-24</td>\n",
              "      <td>447.10</td>\n",
              "      <td>NaN</td>\n",
              "      <td>NaN</td>\n",
              "      <td>161.10</td>\n",
              "    </tr>\n",
              "    <tr>\n",
              "      <th>2290</th>\n",
              "      <td>2020-06-25</td>\n",
              "      <td>451.25</td>\n",
              "      <td>NaN</td>\n",
              "      <td>NaN</td>\n",
              "      <td>163.70</td>\n",
              "    </tr>\n",
              "    <tr>\n",
              "      <th>2291</th>\n",
              "      <td>2020-06-26</td>\n",
              "      <td>457.15</td>\n",
              "      <td>NaN</td>\n",
              "      <td>NaN</td>\n",
              "      <td>166.00</td>\n",
              "    </tr>\n",
              "  </tbody>\n",
              "</table>\n",
              "<p>2294 rows × 5 columns</p>\n",
              "</div>"
            ],
            "text/plain": [
              "           Time  Copper_fut  Copper_spot  Zinc_Spot  Zinc_fut\n",
              "2292 2012-01-04         NaN          NaN        NaN     99.00\n",
              "2293 2012-01-05         NaN          NaN        NaN     98.20\n",
              "0    2012-01-06      407.00          NaN        NaN     98.80\n",
              "1    2012-01-07      407.15          NaN        NaN     98.10\n",
              "2    2012-01-09      403.20          NaN        NaN     97.85\n",
              "...         ...         ...          ...        ...       ...\n",
              "2287 2020-06-22      449.25          NaN        NaN    163.05\n",
              "2288 2020-06-23      448.65          NaN        NaN    161.45\n",
              "2289 2020-06-24      447.10          NaN        NaN    161.10\n",
              "2290 2020-06-25      451.25          NaN        NaN    163.70\n",
              "2291 2020-06-26      457.15          NaN        NaN    166.00\n",
              "\n",
              "[2294 rows x 5 columns]"
            ]
          },
          "metadata": {
            "tags": []
          },
          "execution_count": 31
        }
      ]
    },
    {
      "cell_type": "code",
      "metadata": {
        "id": "asl-tjzvrz19",
        "outputId": "31ac882f-99c5-40d8-80c1-bf299f20de01",
        "colab": {
          "base_uri": "https://localhost:8080/",
          "height": 34
        }
      },
      "source": [
        "df7['Weekday'] = df7['Time'].apply(lambda x: x.weekday())\n",
        "df7['Weekday'].unique()"
      ],
      "execution_count": null,
      "outputs": [
        {
          "output_type": "execute_result",
          "data": {
            "text/plain": [
              "array([2, 3, 4, 5, 0, 1, 6])"
            ]
          },
          "metadata": {
            "tags": []
          },
          "execution_count": 33
        }
      ]
    },
    {
      "cell_type": "code",
      "metadata": {
        "id": "wTjKpsRisowI",
        "outputId": "e9d8f8fc-ad51-41c4-dd84-d69be8d94486",
        "colab": {
          "base_uri": "https://localhost:8080/",
          "height": 202
        }
      },
      "source": [
        "df11.head()"
      ],
      "execution_count": null,
      "outputs": [
        {
          "output_type": "execute_result",
          "data": {
            "text/html": [
              "<div>\n",
              "<style scoped>\n",
              "    .dataframe tbody tr th:only-of-type {\n",
              "        vertical-align: middle;\n",
              "    }\n",
              "\n",
              "    .dataframe tbody tr th {\n",
              "        vertical-align: top;\n",
              "    }\n",
              "\n",
              "    .dataframe thead th {\n",
              "        text-align: right;\n",
              "    }\n",
              "</style>\n",
              "<table border=\"1\" class=\"dataframe\">\n",
              "  <thead>\n",
              "    <tr style=\"text-align: right;\">\n",
              "      <th></th>\n",
              "      <th>PRICE_TIN</th>\n",
              "      <th>Timestamp</th>\n",
              "      <th>PRICE_NICKEL</th>\n",
              "      <th>PRICE_ALUMINIUM</th>\n",
              "      <th>PRICE_COPPER</th>\n",
              "      <th>PRICE_ZINC</th>\n",
              "      <th>PRICE_LEAD</th>\n",
              "      <th>Weekday</th>\n",
              "    </tr>\n",
              "  </thead>\n",
              "  <tbody>\n",
              "    <tr>\n",
              "      <th>0</th>\n",
              "      <td>358.0</td>\n",
              "      <td>2005-02-03</td>\n",
              "      <td>645.0</td>\n",
              "      <td>NaN</td>\n",
              "      <td>135.00</td>\n",
              "      <td>NaN</td>\n",
              "      <td>NaN</td>\n",
              "      <td>3</td>\n",
              "    </tr>\n",
              "    <tr>\n",
              "      <th>1</th>\n",
              "      <td>354.0</td>\n",
              "      <td>2005-02-14</td>\n",
              "      <td>677.0</td>\n",
              "      <td>NaN</td>\n",
              "      <td>NaN</td>\n",
              "      <td>NaN</td>\n",
              "      <td>NaN</td>\n",
              "      <td>0</td>\n",
              "    </tr>\n",
              "    <tr>\n",
              "      <th>2</th>\n",
              "      <td>NaN</td>\n",
              "      <td>2005-03-01</td>\n",
              "      <td>NaN</td>\n",
              "      <td>102.55</td>\n",
              "      <td>NaN</td>\n",
              "      <td>NaN</td>\n",
              "      <td>NaN</td>\n",
              "      <td>1</td>\n",
              "    </tr>\n",
              "    <tr>\n",
              "      <th>3</th>\n",
              "      <td>354.5</td>\n",
              "      <td>2005-04-29</td>\n",
              "      <td>734.0</td>\n",
              "      <td>NaN</td>\n",
              "      <td>NaN</td>\n",
              "      <td>NaN</td>\n",
              "      <td>NaN</td>\n",
              "      <td>4</td>\n",
              "    </tr>\n",
              "    <tr>\n",
              "      <th>4</th>\n",
              "      <td>354.5</td>\n",
              "      <td>2005-04-30</td>\n",
              "      <td>734.0</td>\n",
              "      <td>NaN</td>\n",
              "      <td>144.85</td>\n",
              "      <td>NaN</td>\n",
              "      <td>NaN</td>\n",
              "      <td>5</td>\n",
              "    </tr>\n",
              "  </tbody>\n",
              "</table>\n",
              "</div>"
            ],
            "text/plain": [
              "   PRICE_TIN  Timestamp  PRICE_NICKEL  ...  PRICE_ZINC  PRICE_LEAD  Weekday\n",
              "0      358.0 2005-02-03         645.0  ...         NaN         NaN        3\n",
              "1      354.0 2005-02-14         677.0  ...         NaN         NaN        0\n",
              "2        NaN 2005-03-01           NaN  ...         NaN         NaN        1\n",
              "3      354.5 2005-04-29         734.0  ...         NaN         NaN        4\n",
              "4      354.5 2005-04-30         734.0  ...         NaN         NaN        5\n",
              "\n",
              "[5 rows x 8 columns]"
            ]
          },
          "metadata": {
            "tags": []
          },
          "execution_count": 122
        }
      ]
    },
    {
      "cell_type": "code",
      "metadata": {
        "id": "dEagwA6NsrHz"
      },
      "source": [
        "## Monday = 0, to Sunday = 6, removing Saturday = 5 and Sunday = 6\n",
        "df7 = df7[df7['Weekday']!=5]\n",
        "df7 = df7[df7['Weekday']!=6]"
      ],
      "execution_count": null,
      "outputs": []
    },
    {
      "cell_type": "code",
      "metadata": {
        "id": "F3B4XS1ssrxq",
        "outputId": "c36584aa-640e-40f7-b721-b7e0991d23cb",
        "colab": {
          "base_uri": "https://localhost:8080/",
          "height": 34
        }
      },
      "source": [
        "df7['Weekday'].unique()"
      ],
      "execution_count": null,
      "outputs": [
        {
          "output_type": "execute_result",
          "data": {
            "text/plain": [
              "array([2, 3, 4, 0, 1])"
            ]
          },
          "metadata": {
            "tags": []
          },
          "execution_count": 36
        }
      ]
    },
    {
      "cell_type": "code",
      "metadata": {
        "id": "m3PV3gx-sr5b"
      },
      "source": [
        "map = {0:'Monday',\n",
        "       1:'Tuesday',\n",
        "       2:'Wednesday',\n",
        "       3:'Thursday',\n",
        "       4:'Friday'}"
      ],
      "execution_count": null,
      "outputs": []
    },
    {
      "cell_type": "code",
      "metadata": {
        "id": "LPRxRw2tsr2D"
      },
      "source": [
        "df11['Weekday'] = df11['Weekday'].map(map)"
      ],
      "execution_count": null,
      "outputs": []
    },
    {
      "cell_type": "code",
      "metadata": {
        "id": "vIHHte5ok2YD",
        "outputId": "ec71b7a2-7875-4532-ff35-c2f17e907209",
        "colab": {
          "base_uri": "https://localhost:8080/",
          "height": 416
        }
      },
      "source": [
        "df11 = df11.reset_index(drop = True)\n",
        "df11"
      ],
      "execution_count": null,
      "outputs": [
        {
          "output_type": "execute_result",
          "data": {
            "text/html": [
              "<div>\n",
              "<style scoped>\n",
              "    .dataframe tbody tr th:only-of-type {\n",
              "        vertical-align: middle;\n",
              "    }\n",
              "\n",
              "    .dataframe tbody tr th {\n",
              "        vertical-align: top;\n",
              "    }\n",
              "\n",
              "    .dataframe thead th {\n",
              "        text-align: right;\n",
              "    }\n",
              "</style>\n",
              "<table border=\"1\" class=\"dataframe\">\n",
              "  <thead>\n",
              "    <tr style=\"text-align: right;\">\n",
              "      <th></th>\n",
              "      <th>PRICE_TIN</th>\n",
              "      <th>Timestamp</th>\n",
              "      <th>PRICE_NICKEL</th>\n",
              "      <th>PRICE_ALUMINIUM</th>\n",
              "      <th>PRICE_COPPER</th>\n",
              "      <th>PRICE_ZINC</th>\n",
              "      <th>PRICE_LEAD</th>\n",
              "      <th>Weekday</th>\n",
              "    </tr>\n",
              "  </thead>\n",
              "  <tbody>\n",
              "    <tr>\n",
              "      <th>0</th>\n",
              "      <td>358.00</td>\n",
              "      <td>2005-02-03</td>\n",
              "      <td>645.0</td>\n",
              "      <td>NaN</td>\n",
              "      <td>135.00</td>\n",
              "      <td>NaN</td>\n",
              "      <td>NaN</td>\n",
              "      <td>Thursday</td>\n",
              "    </tr>\n",
              "    <tr>\n",
              "      <th>1</th>\n",
              "      <td>354.00</td>\n",
              "      <td>2005-02-14</td>\n",
              "      <td>677.0</td>\n",
              "      <td>NaN</td>\n",
              "      <td>NaN</td>\n",
              "      <td>NaN</td>\n",
              "      <td>NaN</td>\n",
              "      <td>Monday</td>\n",
              "    </tr>\n",
              "    <tr>\n",
              "      <th>2</th>\n",
              "      <td>NaN</td>\n",
              "      <td>2005-03-01</td>\n",
              "      <td>NaN</td>\n",
              "      <td>102.55</td>\n",
              "      <td>NaN</td>\n",
              "      <td>NaN</td>\n",
              "      <td>NaN</td>\n",
              "      <td>Tuesday</td>\n",
              "    </tr>\n",
              "    <tr>\n",
              "      <th>3</th>\n",
              "      <td>354.50</td>\n",
              "      <td>2005-04-29</td>\n",
              "      <td>734.0</td>\n",
              "      <td>NaN</td>\n",
              "      <td>NaN</td>\n",
              "      <td>NaN</td>\n",
              "      <td>NaN</td>\n",
              "      <td>Friday</td>\n",
              "    </tr>\n",
              "    <tr>\n",
              "      <th>4</th>\n",
              "      <td>354.50</td>\n",
              "      <td>2005-05-02</td>\n",
              "      <td>734.0</td>\n",
              "      <td>NaN</td>\n",
              "      <td>140.65</td>\n",
              "      <td>NaN</td>\n",
              "      <td>NaN</td>\n",
              "      <td>Monday</td>\n",
              "    </tr>\n",
              "    <tr>\n",
              "      <th>...</th>\n",
              "      <td>...</td>\n",
              "      <td>...</td>\n",
              "      <td>...</td>\n",
              "      <td>...</td>\n",
              "      <td>...</td>\n",
              "      <td>...</td>\n",
              "      <td>...</td>\n",
              "      <td>...</td>\n",
              "    </tr>\n",
              "    <tr>\n",
              "      <th>4017</th>\n",
              "      <td>1157.25</td>\n",
              "      <td>2020-05-18</td>\n",
              "      <td>892.0</td>\n",
              "      <td>137.60</td>\n",
              "      <td>388.30</td>\n",
              "      <td>155.15</td>\n",
              "      <td>141.6</td>\n",
              "      <td>Monday</td>\n",
              "    </tr>\n",
              "    <tr>\n",
              "      <th>4018</th>\n",
              "      <td>1165.50</td>\n",
              "      <td>2020-05-19</td>\n",
              "      <td>892.0</td>\n",
              "      <td>137.60</td>\n",
              "      <td>388.30</td>\n",
              "      <td>155.15</td>\n",
              "      <td>141.6</td>\n",
              "      <td>Tuesday</td>\n",
              "    </tr>\n",
              "    <tr>\n",
              "      <th>4019</th>\n",
              "      <td>1160.50</td>\n",
              "      <td>2020-05-20</td>\n",
              "      <td>892.0</td>\n",
              "      <td>137.60</td>\n",
              "      <td>388.30</td>\n",
              "      <td>155.15</td>\n",
              "      <td>141.6</td>\n",
              "      <td>Wednesday</td>\n",
              "    </tr>\n",
              "    <tr>\n",
              "      <th>4020</th>\n",
              "      <td>1194.25</td>\n",
              "      <td>2020-05-21</td>\n",
              "      <td>892.0</td>\n",
              "      <td>137.60</td>\n",
              "      <td>388.30</td>\n",
              "      <td>155.15</td>\n",
              "      <td>141.6</td>\n",
              "      <td>Thursday</td>\n",
              "    </tr>\n",
              "    <tr>\n",
              "      <th>4021</th>\n",
              "      <td>1174.25</td>\n",
              "      <td>2020-05-22</td>\n",
              "      <td>892.0</td>\n",
              "      <td>137.60</td>\n",
              "      <td>388.30</td>\n",
              "      <td>155.15</td>\n",
              "      <td>141.6</td>\n",
              "      <td>Friday</td>\n",
              "    </tr>\n",
              "  </tbody>\n",
              "</table>\n",
              "<p>4022 rows × 8 columns</p>\n",
              "</div>"
            ],
            "text/plain": [
              "      PRICE_TIN  Timestamp  PRICE_NICKEL  ...  PRICE_ZINC  PRICE_LEAD    Weekday\n",
              "0        358.00 2005-02-03         645.0  ...         NaN         NaN   Thursday\n",
              "1        354.00 2005-02-14         677.0  ...         NaN         NaN     Monday\n",
              "2           NaN 2005-03-01           NaN  ...         NaN         NaN    Tuesday\n",
              "3        354.50 2005-04-29         734.0  ...         NaN         NaN     Friday\n",
              "4        354.50 2005-05-02         734.0  ...         NaN         NaN     Monday\n",
              "...         ...        ...           ...  ...         ...         ...        ...\n",
              "4017    1157.25 2020-05-18         892.0  ...      155.15       141.6     Monday\n",
              "4018    1165.50 2020-05-19         892.0  ...      155.15       141.6    Tuesday\n",
              "4019    1160.50 2020-05-20         892.0  ...      155.15       141.6  Wednesday\n",
              "4020    1194.25 2020-05-21         892.0  ...      155.15       141.6   Thursday\n",
              "4021    1174.25 2020-05-22         892.0  ...      155.15       141.6     Friday\n",
              "\n",
              "[4022 rows x 8 columns]"
            ]
          },
          "metadata": {
            "tags": []
          },
          "execution_count": 127
        }
      ]
    },
    {
      "cell_type": "code",
      "metadata": {
        "id": "swuqvqYcUU0L",
        "outputId": "89e7028c-4861-4464-f417-2eeaa17c8f20",
        "colab": {
          "base_uri": "https://localhost:8080/",
          "height": 424
        }
      },
      "source": [
        "df7"
      ],
      "execution_count": null,
      "outputs": [
        {
          "output_type": "execute_result",
          "data": {
            "text/html": [
              "<div>\n",
              "<style scoped>\n",
              "    .dataframe tbody tr th:only-of-type {\n",
              "        vertical-align: middle;\n",
              "    }\n",
              "\n",
              "    .dataframe tbody tr th {\n",
              "        vertical-align: top;\n",
              "    }\n",
              "\n",
              "    .dataframe thead th {\n",
              "        text-align: right;\n",
              "    }\n",
              "</style>\n",
              "<table border=\"1\" class=\"dataframe\">\n",
              "  <thead>\n",
              "    <tr style=\"text-align: right;\">\n",
              "      <th></th>\n",
              "      <th>Time</th>\n",
              "      <th>Copper_fut</th>\n",
              "      <th>Copper_spot</th>\n",
              "      <th>Zinc_Spot</th>\n",
              "      <th>Zinc_fut</th>\n",
              "      <th>Weekday</th>\n",
              "    </tr>\n",
              "  </thead>\n",
              "  <tbody>\n",
              "    <tr>\n",
              "      <th>2292</th>\n",
              "      <td>2012-01-04</td>\n",
              "      <td>NaN</td>\n",
              "      <td>NaN</td>\n",
              "      <td>NaN</td>\n",
              "      <td>99.00</td>\n",
              "      <td>2</td>\n",
              "    </tr>\n",
              "    <tr>\n",
              "      <th>2293</th>\n",
              "      <td>2012-01-05</td>\n",
              "      <td>NaN</td>\n",
              "      <td>NaN</td>\n",
              "      <td>NaN</td>\n",
              "      <td>98.20</td>\n",
              "      <td>3</td>\n",
              "    </tr>\n",
              "    <tr>\n",
              "      <th>0</th>\n",
              "      <td>2012-01-06</td>\n",
              "      <td>407.00</td>\n",
              "      <td>NaN</td>\n",
              "      <td>NaN</td>\n",
              "      <td>98.80</td>\n",
              "      <td>4</td>\n",
              "    </tr>\n",
              "    <tr>\n",
              "      <th>2</th>\n",
              "      <td>2012-01-09</td>\n",
              "      <td>403.20</td>\n",
              "      <td>NaN</td>\n",
              "      <td>NaN</td>\n",
              "      <td>97.85</td>\n",
              "      <td>0</td>\n",
              "    </tr>\n",
              "    <tr>\n",
              "      <th>3</th>\n",
              "      <td>2012-01-10</td>\n",
              "      <td>399.55</td>\n",
              "      <td>NaN</td>\n",
              "      <td>NaN</td>\n",
              "      <td>98.15</td>\n",
              "      <td>1</td>\n",
              "    </tr>\n",
              "    <tr>\n",
              "      <th>...</th>\n",
              "      <td>...</td>\n",
              "      <td>...</td>\n",
              "      <td>...</td>\n",
              "      <td>...</td>\n",
              "      <td>...</td>\n",
              "      <td>...</td>\n",
              "    </tr>\n",
              "    <tr>\n",
              "      <th>2287</th>\n",
              "      <td>2020-06-22</td>\n",
              "      <td>449.25</td>\n",
              "      <td>NaN</td>\n",
              "      <td>NaN</td>\n",
              "      <td>163.05</td>\n",
              "      <td>0</td>\n",
              "    </tr>\n",
              "    <tr>\n",
              "      <th>2288</th>\n",
              "      <td>2020-06-23</td>\n",
              "      <td>448.65</td>\n",
              "      <td>NaN</td>\n",
              "      <td>NaN</td>\n",
              "      <td>161.45</td>\n",
              "      <td>1</td>\n",
              "    </tr>\n",
              "    <tr>\n",
              "      <th>2289</th>\n",
              "      <td>2020-06-24</td>\n",
              "      <td>447.10</td>\n",
              "      <td>NaN</td>\n",
              "      <td>NaN</td>\n",
              "      <td>161.10</td>\n",
              "      <td>2</td>\n",
              "    </tr>\n",
              "    <tr>\n",
              "      <th>2290</th>\n",
              "      <td>2020-06-25</td>\n",
              "      <td>451.25</td>\n",
              "      <td>NaN</td>\n",
              "      <td>NaN</td>\n",
              "      <td>163.70</td>\n",
              "      <td>3</td>\n",
              "    </tr>\n",
              "    <tr>\n",
              "      <th>2291</th>\n",
              "      <td>2020-06-26</td>\n",
              "      <td>457.15</td>\n",
              "      <td>NaN</td>\n",
              "      <td>NaN</td>\n",
              "      <td>166.00</td>\n",
              "      <td>4</td>\n",
              "    </tr>\n",
              "  </tbody>\n",
              "</table>\n",
              "<p>2172 rows × 6 columns</p>\n",
              "</div>"
            ],
            "text/plain": [
              "           Time  Copper_fut  Copper_spot  Zinc_Spot  Zinc_fut  Weekday\n",
              "2292 2012-01-04         NaN          NaN        NaN     99.00        2\n",
              "2293 2012-01-05         NaN          NaN        NaN     98.20        3\n",
              "0    2012-01-06      407.00          NaN        NaN     98.80        4\n",
              "2    2012-01-09      403.20          NaN        NaN     97.85        0\n",
              "3    2012-01-10      399.55          NaN        NaN     98.15        1\n",
              "...         ...         ...          ...        ...       ...      ...\n",
              "2287 2020-06-22      449.25          NaN        NaN    163.05        0\n",
              "2288 2020-06-23      448.65          NaN        NaN    161.45        1\n",
              "2289 2020-06-24      447.10          NaN        NaN    161.10        2\n",
              "2290 2020-06-25      451.25          NaN        NaN    163.70        3\n",
              "2291 2020-06-26      457.15          NaN        NaN    166.00        4\n",
              "\n",
              "[2172 rows x 6 columns]"
            ]
          },
          "metadata": {
            "tags": []
          },
          "execution_count": 37
        }
      ]
    },
    {
      "cell_type": "code",
      "metadata": {
        "id": "9CNSmF9Ik-69"
      },
      "source": [
        "df11.to_excel('Final_Data_1.xlsx')"
      ],
      "execution_count": null,
      "outputs": []
    },
    {
      "cell_type": "code",
      "metadata": {
        "id": "QaZltWX7vSa3"
      },
      "source": [
        "df7['Copper_fut'] = df7['Copper_fut'].interpolate()"
      ],
      "execution_count": null,
      "outputs": []
    },
    {
      "cell_type": "code",
      "metadata": {
        "id": "tyPDexXLxajZ"
      },
      "source": [
        "df7['Copper_spot'] = df7['Copper_spot'].interpolate()"
      ],
      "execution_count": null,
      "outputs": []
    },
    {
      "cell_type": "code",
      "metadata": {
        "id": "5tZVwRjaxmmA"
      },
      "source": [
        "df7['Zinc_Spot'] = df7['Zinc_Spot'].interpolate()"
      ],
      "execution_count": null,
      "outputs": []
    },
    {
      "cell_type": "code",
      "metadata": {
        "id": "6pR_lE3-xwYr"
      },
      "source": [
        "df7['Zinc_fut'] = df7['Zinc_fut'].interpolate()"
      ],
      "execution_count": null,
      "outputs": []
    },
    {
      "cell_type": "code",
      "metadata": {
        "id": "r_72Sjuox4WI",
        "outputId": "99a7752b-758c-4cc7-be65-a20ba1fc3a77",
        "colab": {
          "base_uri": "https://localhost:8080/",
          "height": 424
        }
      },
      "source": [
        "df7"
      ],
      "execution_count": null,
      "outputs": [
        {
          "output_type": "execute_result",
          "data": {
            "text/html": [
              "<div>\n",
              "<style scoped>\n",
              "    .dataframe tbody tr th:only-of-type {\n",
              "        vertical-align: middle;\n",
              "    }\n",
              "\n",
              "    .dataframe tbody tr th {\n",
              "        vertical-align: top;\n",
              "    }\n",
              "\n",
              "    .dataframe thead th {\n",
              "        text-align: right;\n",
              "    }\n",
              "</style>\n",
              "<table border=\"1\" class=\"dataframe\">\n",
              "  <thead>\n",
              "    <tr style=\"text-align: right;\">\n",
              "      <th></th>\n",
              "      <th>Time</th>\n",
              "      <th>Copper_fut</th>\n",
              "      <th>Copper_spot</th>\n",
              "      <th>Zinc_Spot</th>\n",
              "      <th>Zinc_fut</th>\n",
              "      <th>Weekday</th>\n",
              "    </tr>\n",
              "  </thead>\n",
              "  <tbody>\n",
              "    <tr>\n",
              "      <th>2292</th>\n",
              "      <td>2012-01-04</td>\n",
              "      <td>NaN</td>\n",
              "      <td>NaN</td>\n",
              "      <td>NaN</td>\n",
              "      <td>99.00</td>\n",
              "      <td>2</td>\n",
              "    </tr>\n",
              "    <tr>\n",
              "      <th>2293</th>\n",
              "      <td>2012-01-05</td>\n",
              "      <td>NaN</td>\n",
              "      <td>NaN</td>\n",
              "      <td>NaN</td>\n",
              "      <td>98.20</td>\n",
              "      <td>3</td>\n",
              "    </tr>\n",
              "    <tr>\n",
              "      <th>0</th>\n",
              "      <td>2012-01-06</td>\n",
              "      <td>407.00</td>\n",
              "      <td>NaN</td>\n",
              "      <td>NaN</td>\n",
              "      <td>98.80</td>\n",
              "      <td>4</td>\n",
              "    </tr>\n",
              "    <tr>\n",
              "      <th>2</th>\n",
              "      <td>2012-01-09</td>\n",
              "      <td>403.20</td>\n",
              "      <td>NaN</td>\n",
              "      <td>NaN</td>\n",
              "      <td>97.85</td>\n",
              "      <td>0</td>\n",
              "    </tr>\n",
              "    <tr>\n",
              "      <th>3</th>\n",
              "      <td>2012-01-10</td>\n",
              "      <td>399.55</td>\n",
              "      <td>NaN</td>\n",
              "      <td>NaN</td>\n",
              "      <td>98.15</td>\n",
              "      <td>1</td>\n",
              "    </tr>\n",
              "    <tr>\n",
              "      <th>...</th>\n",
              "      <td>...</td>\n",
              "      <td>...</td>\n",
              "      <td>...</td>\n",
              "      <td>...</td>\n",
              "      <td>...</td>\n",
              "      <td>...</td>\n",
              "    </tr>\n",
              "    <tr>\n",
              "      <th>2287</th>\n",
              "      <td>2020-06-22</td>\n",
              "      <td>449.25</td>\n",
              "      <td>388.3</td>\n",
              "      <td>155.15</td>\n",
              "      <td>163.05</td>\n",
              "      <td>0</td>\n",
              "    </tr>\n",
              "    <tr>\n",
              "      <th>2288</th>\n",
              "      <td>2020-06-23</td>\n",
              "      <td>448.65</td>\n",
              "      <td>388.3</td>\n",
              "      <td>155.15</td>\n",
              "      <td>161.45</td>\n",
              "      <td>1</td>\n",
              "    </tr>\n",
              "    <tr>\n",
              "      <th>2289</th>\n",
              "      <td>2020-06-24</td>\n",
              "      <td>447.10</td>\n",
              "      <td>388.3</td>\n",
              "      <td>155.15</td>\n",
              "      <td>161.10</td>\n",
              "      <td>2</td>\n",
              "    </tr>\n",
              "    <tr>\n",
              "      <th>2290</th>\n",
              "      <td>2020-06-25</td>\n",
              "      <td>451.25</td>\n",
              "      <td>388.3</td>\n",
              "      <td>155.15</td>\n",
              "      <td>163.70</td>\n",
              "      <td>3</td>\n",
              "    </tr>\n",
              "    <tr>\n",
              "      <th>2291</th>\n",
              "      <td>2020-06-26</td>\n",
              "      <td>457.15</td>\n",
              "      <td>388.3</td>\n",
              "      <td>155.15</td>\n",
              "      <td>166.00</td>\n",
              "      <td>4</td>\n",
              "    </tr>\n",
              "  </tbody>\n",
              "</table>\n",
              "<p>2172 rows × 6 columns</p>\n",
              "</div>"
            ],
            "text/plain": [
              "           Time  Copper_fut  Copper_spot  Zinc_Spot  Zinc_fut  Weekday\n",
              "2292 2012-01-04         NaN          NaN        NaN     99.00        2\n",
              "2293 2012-01-05         NaN          NaN        NaN     98.20        3\n",
              "0    2012-01-06      407.00          NaN        NaN     98.80        4\n",
              "2    2012-01-09      403.20          NaN        NaN     97.85        0\n",
              "3    2012-01-10      399.55          NaN        NaN     98.15        1\n",
              "...         ...         ...          ...        ...       ...      ...\n",
              "2287 2020-06-22      449.25        388.3     155.15    163.05        0\n",
              "2288 2020-06-23      448.65        388.3     155.15    161.45        1\n",
              "2289 2020-06-24      447.10        388.3     155.15    161.10        2\n",
              "2290 2020-06-25      451.25        388.3     155.15    163.70        3\n",
              "2291 2020-06-26      457.15        388.3     155.15    166.00        4\n",
              "\n",
              "[2172 rows x 6 columns]"
            ]
          },
          "metadata": {
            "tags": []
          },
          "execution_count": 44
        }
      ]
    },
    {
      "cell_type": "code",
      "metadata": {
        "id": "khAVHDTox7Ea"
      },
      "source": [
        "df11['PRICE_ZINC'] = df11['PRICE_ZINC'].interpolate()"
      ],
      "execution_count": null,
      "outputs": []
    },
    {
      "cell_type": "code",
      "metadata": {
        "id": "aexouYwJ0uuf"
      },
      "source": [
        "df11['PRICE_LEAD'] = df11['PRICE_LEAD'].interpolate()"
      ],
      "execution_count": null,
      "outputs": []
    },
    {
      "cell_type": "code",
      "metadata": {
        "id": "aqEBuq2X03fp"
      },
      "source": [
        "df11.index = df11['Timestamp']"
      ],
      "execution_count": null,
      "outputs": []
    },
    {
      "cell_type": "code",
      "metadata": {
        "id": "MNFGJkiz0-5W"
      },
      "source": [
        "df11['PRICE_ZINC'] = df11['PRICE_ZINC'].interpolate(method='time')"
      ],
      "execution_count": null,
      "outputs": []
    },
    {
      "cell_type": "code",
      "metadata": {
        "id": "T3RWmRco1Pj2"
      },
      "source": [
        "df11['PRICE_LEAD'] = df11['PRICE_LEAD'].interpolate(method='time')"
      ],
      "execution_count": null,
      "outputs": []
    },
    {
      "cell_type": "code",
      "metadata": {
        "id": "aIylQ9tP12C1",
        "outputId": "81cbdeb0-e756-41cb-98f7-0a892d2f573f",
        "colab": {
          "base_uri": "https://localhost:8080/",
          "height": 446
        }
      },
      "source": [
        "df11"
      ],
      "execution_count": null,
      "outputs": [
        {
          "output_type": "execute_result",
          "data": {
            "text/html": [
              "<div>\n",
              "<style scoped>\n",
              "    .dataframe tbody tr th:only-of-type {\n",
              "        vertical-align: middle;\n",
              "    }\n",
              "\n",
              "    .dataframe tbody tr th {\n",
              "        vertical-align: top;\n",
              "    }\n",
              "\n",
              "    .dataframe thead th {\n",
              "        text-align: right;\n",
              "    }\n",
              "</style>\n",
              "<table border=\"1\" class=\"dataframe\">\n",
              "  <thead>\n",
              "    <tr style=\"text-align: right;\">\n",
              "      <th></th>\n",
              "      <th>PRICE_TIN</th>\n",
              "      <th>Timestamp</th>\n",
              "      <th>PRICE_NICKEL</th>\n",
              "      <th>PRICE_ALUMINIUM</th>\n",
              "      <th>PRICE_COPPER</th>\n",
              "      <th>PRICE_ZINC</th>\n",
              "      <th>PRICE_LEAD</th>\n",
              "      <th>Weekday</th>\n",
              "    </tr>\n",
              "    <tr>\n",
              "      <th>Timestamp</th>\n",
              "      <th></th>\n",
              "      <th></th>\n",
              "      <th></th>\n",
              "      <th></th>\n",
              "      <th></th>\n",
              "      <th></th>\n",
              "      <th></th>\n",
              "      <th></th>\n",
              "    </tr>\n",
              "  </thead>\n",
              "  <tbody>\n",
              "    <tr>\n",
              "      <th>2005-02-03</th>\n",
              "      <td>358.00</td>\n",
              "      <td>2005-02-03</td>\n",
              "      <td>645.0</td>\n",
              "      <td>NaN</td>\n",
              "      <td>135.0000</td>\n",
              "      <td>NaN</td>\n",
              "      <td>NaN</td>\n",
              "      <td>Thursday</td>\n",
              "    </tr>\n",
              "    <tr>\n",
              "      <th>2005-02-14</th>\n",
              "      <td>354.00</td>\n",
              "      <td>2005-02-14</td>\n",
              "      <td>677.0</td>\n",
              "      <td>NaN</td>\n",
              "      <td>136.4125</td>\n",
              "      <td>NaN</td>\n",
              "      <td>NaN</td>\n",
              "      <td>Monday</td>\n",
              "    </tr>\n",
              "    <tr>\n",
              "      <th>2005-03-01</th>\n",
              "      <td>354.25</td>\n",
              "      <td>2005-03-01</td>\n",
              "      <td>705.5</td>\n",
              "      <td>102.550000</td>\n",
              "      <td>137.8250</td>\n",
              "      <td>NaN</td>\n",
              "      <td>NaN</td>\n",
              "      <td>Tuesday</td>\n",
              "    </tr>\n",
              "    <tr>\n",
              "      <th>2005-04-29</th>\n",
              "      <td>354.50</td>\n",
              "      <td>2005-04-29</td>\n",
              "      <td>734.0</td>\n",
              "      <td>102.468321</td>\n",
              "      <td>139.2375</td>\n",
              "      <td>NaN</td>\n",
              "      <td>NaN</td>\n",
              "      <td>Friday</td>\n",
              "    </tr>\n",
              "    <tr>\n",
              "      <th>2005-05-02</th>\n",
              "      <td>354.50</td>\n",
              "      <td>2005-05-02</td>\n",
              "      <td>734.0</td>\n",
              "      <td>102.386641</td>\n",
              "      <td>140.6500</td>\n",
              "      <td>NaN</td>\n",
              "      <td>NaN</td>\n",
              "      <td>Monday</td>\n",
              "    </tr>\n",
              "    <tr>\n",
              "      <th>...</th>\n",
              "      <td>...</td>\n",
              "      <td>...</td>\n",
              "      <td>...</td>\n",
              "      <td>...</td>\n",
              "      <td>...</td>\n",
              "      <td>...</td>\n",
              "      <td>...</td>\n",
              "      <td>...</td>\n",
              "    </tr>\n",
              "    <tr>\n",
              "      <th>2020-05-18</th>\n",
              "      <td>1157.25</td>\n",
              "      <td>2020-05-18</td>\n",
              "      <td>892.0</td>\n",
              "      <td>137.600000</td>\n",
              "      <td>388.3000</td>\n",
              "      <td>155.15</td>\n",
              "      <td>141.6</td>\n",
              "      <td>Monday</td>\n",
              "    </tr>\n",
              "    <tr>\n",
              "      <th>2020-05-19</th>\n",
              "      <td>1165.50</td>\n",
              "      <td>2020-05-19</td>\n",
              "      <td>892.0</td>\n",
              "      <td>137.600000</td>\n",
              "      <td>388.3000</td>\n",
              "      <td>155.15</td>\n",
              "      <td>141.6</td>\n",
              "      <td>Tuesday</td>\n",
              "    </tr>\n",
              "    <tr>\n",
              "      <th>2020-05-20</th>\n",
              "      <td>1160.50</td>\n",
              "      <td>2020-05-20</td>\n",
              "      <td>892.0</td>\n",
              "      <td>137.600000</td>\n",
              "      <td>388.3000</td>\n",
              "      <td>155.15</td>\n",
              "      <td>141.6</td>\n",
              "      <td>Wednesday</td>\n",
              "    </tr>\n",
              "    <tr>\n",
              "      <th>2020-05-21</th>\n",
              "      <td>1194.25</td>\n",
              "      <td>2020-05-21</td>\n",
              "      <td>892.0</td>\n",
              "      <td>137.600000</td>\n",
              "      <td>388.3000</td>\n",
              "      <td>155.15</td>\n",
              "      <td>141.6</td>\n",
              "      <td>Thursday</td>\n",
              "    </tr>\n",
              "    <tr>\n",
              "      <th>2020-05-22</th>\n",
              "      <td>1174.25</td>\n",
              "      <td>2020-05-22</td>\n",
              "      <td>892.0</td>\n",
              "      <td>137.600000</td>\n",
              "      <td>388.3000</td>\n",
              "      <td>155.15</td>\n",
              "      <td>141.6</td>\n",
              "      <td>Friday</td>\n",
              "    </tr>\n",
              "  </tbody>\n",
              "</table>\n",
              "<p>4022 rows × 8 columns</p>\n",
              "</div>"
            ],
            "text/plain": [
              "            PRICE_TIN  Timestamp  ...  PRICE_LEAD    Weekday\n",
              "Timestamp                         ...                       \n",
              "2005-02-03     358.00 2005-02-03  ...         NaN   Thursday\n",
              "2005-02-14     354.00 2005-02-14  ...         NaN     Monday\n",
              "2005-03-01     354.25 2005-03-01  ...         NaN    Tuesday\n",
              "2005-04-29     354.50 2005-04-29  ...         NaN     Friday\n",
              "2005-05-02     354.50 2005-05-02  ...         NaN     Monday\n",
              "...               ...        ...  ...         ...        ...\n",
              "2020-05-18    1157.25 2020-05-18  ...       141.6     Monday\n",
              "2020-05-19    1165.50 2020-05-19  ...       141.6    Tuesday\n",
              "2020-05-20    1160.50 2020-05-20  ...       141.6  Wednesday\n",
              "2020-05-21    1194.25 2020-05-21  ...       141.6   Thursday\n",
              "2020-05-22    1174.25 2020-05-22  ...       141.6     Friday\n",
              "\n",
              "[4022 rows x 8 columns]"
            ]
          },
          "metadata": {
            "tags": []
          },
          "execution_count": 149
        }
      ]
    },
    {
      "cell_type": "code",
      "metadata": {
        "id": "FynxLeZU14H1"
      },
      "source": [
        "df7.to_excel('Final_Data_FRAM.xlsx')"
      ],
      "execution_count": null,
      "outputs": []
    },
    {
      "cell_type": "code",
      "metadata": {
        "id": "-V-JfwV_1_Vl"
      },
      "source": [
        ""
      ],
      "execution_count": null,
      "outputs": []
    }
  ]
}